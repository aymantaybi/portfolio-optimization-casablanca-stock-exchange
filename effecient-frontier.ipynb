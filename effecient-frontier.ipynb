{
 "cells": [
  {
   "cell_type": "code",
   "execution_count": 2,
   "metadata": {},
   "outputs": [],
   "source": [
    "import pandas as pd\n",
    "import matplotlib.pyplot as plt\n",
    "import numpy as np\n",
    "import seaborn as sns\n",
    "from scipy import stats\n",
    "import plotly.express as px\n",
    "import plotly.figure_factory as ff\n",
    "import plotly.graph_objects as go\n",
    "from datetime import date, timedelta\n",
    "from scipy.optimize import minimize"
   ]
  },
  {
   "cell_type": "code",
   "execution_count": 3,
   "metadata": {},
   "outputs": [
    {
     "name": "stdout",
     "output_type": "stream",
     "text": [
      "1305\n"
     ]
    },
    {
     "data": {
      "text/html": [
       "<div>\n",
       "<style scoped>\n",
       "    .dataframe tbody tr th:only-of-type {\n",
       "        vertical-align: middle;\n",
       "    }\n",
       "\n",
       "    .dataframe tbody tr th {\n",
       "        vertical-align: top;\n",
       "    }\n",
       "\n",
       "    .dataframe thead th {\n",
       "        text-align: right;\n",
       "    }\n",
       "</style>\n",
       "<table border=\"1\" class=\"dataframe\">\n",
       "  <thead>\n",
       "    <tr style=\"text-align: right;\">\n",
       "      <th></th>\n",
       "      <th>Date</th>\n",
       "      <th>GAZ</th>\n",
       "      <th>ADI</th>\n",
       "      <th>ATL</th>\n",
       "      <th>ATW</th>\n",
       "      <th>BOA</th>\n",
       "      <th>BCP</th>\n",
       "      <th>BCI</th>\n",
       "      <th>CMA</th>\n",
       "      <th>CSR</th>\n",
       "      <th>ADH</th>\n",
       "      <th>HPS</th>\n",
       "      <th>IAM</th>\n",
       "      <th>LBV</th>\n",
       "      <th>LHM</th>\n",
       "      <th>MNG</th>\n",
       "      <th>SID</th>\n",
       "    </tr>\n",
       "  </thead>\n",
       "  <tbody>\n",
       "    <tr>\n",
       "      <th>0</th>\n",
       "      <td>2015-01-01</td>\n",
       "      <td>NaN</td>\n",
       "      <td>NaN</td>\n",
       "      <td>NaN</td>\n",
       "      <td>NaN</td>\n",
       "      <td>NaN</td>\n",
       "      <td>NaN</td>\n",
       "      <td>NaN</td>\n",
       "      <td>NaN</td>\n",
       "      <td>NaN</td>\n",
       "      <td>NaN</td>\n",
       "      <td>NaN</td>\n",
       "      <td>NaN</td>\n",
       "      <td>NaN</td>\n",
       "      <td>NaN</td>\n",
       "      <td>NaN</td>\n",
       "      <td>NaN</td>\n",
       "    </tr>\n",
       "    <tr>\n",
       "      <th>1</th>\n",
       "      <td>2015-01-02</td>\n",
       "      <td>1999.0</td>\n",
       "      <td>283.0</td>\n",
       "      <td>68.80</td>\n",
       "      <td>343.90</td>\n",
       "      <td>215.19</td>\n",
       "      <td>211.50</td>\n",
       "      <td>710.0</td>\n",
       "      <td>NaN</td>\n",
       "      <td>NaN</td>\n",
       "      <td>37.50</td>\n",
       "      <td>375.0</td>\n",
       "      <td>115.00</td>\n",
       "      <td>NaN</td>\n",
       "      <td>NaN</td>\n",
       "      <td>964.0</td>\n",
       "      <td>950.0</td>\n",
       "    </tr>\n",
       "    <tr>\n",
       "      <th>2</th>\n",
       "      <td>2015-01-05</td>\n",
       "      <td>NaN</td>\n",
       "      <td>NaN</td>\n",
       "      <td>NaN</td>\n",
       "      <td>NaN</td>\n",
       "      <td>NaN</td>\n",
       "      <td>NaN</td>\n",
       "      <td>NaN</td>\n",
       "      <td>NaN</td>\n",
       "      <td>NaN</td>\n",
       "      <td>NaN</td>\n",
       "      <td>NaN</td>\n",
       "      <td>NaN</td>\n",
       "      <td>NaN</td>\n",
       "      <td>NaN</td>\n",
       "      <td>NaN</td>\n",
       "      <td>NaN</td>\n",
       "    </tr>\n",
       "    <tr>\n",
       "      <th>3</th>\n",
       "      <td>2015-01-06</td>\n",
       "      <td>NaN</td>\n",
       "      <td>275.0</td>\n",
       "      <td>65.16</td>\n",
       "      <td>343.90</td>\n",
       "      <td>211.74</td>\n",
       "      <td>214.50</td>\n",
       "      <td>712.0</td>\n",
       "      <td>NaN</td>\n",
       "      <td>111.0</td>\n",
       "      <td>38.00</td>\n",
       "      <td>370.0</td>\n",
       "      <td>114.75</td>\n",
       "      <td>NaN</td>\n",
       "      <td>1445.0</td>\n",
       "      <td>1019.0</td>\n",
       "      <td>995.0</td>\n",
       "    </tr>\n",
       "    <tr>\n",
       "      <th>4</th>\n",
       "      <td>2015-01-07</td>\n",
       "      <td>NaN</td>\n",
       "      <td>280.0</td>\n",
       "      <td>68.60</td>\n",
       "      <td>348.90</td>\n",
       "      <td>214.65</td>\n",
       "      <td>217.00</td>\n",
       "      <td>NaN</td>\n",
       "      <td>NaN</td>\n",
       "      <td>NaN</td>\n",
       "      <td>39.00</td>\n",
       "      <td>371.0</td>\n",
       "      <td>116.60</td>\n",
       "      <td>NaN</td>\n",
       "      <td>1431.0</td>\n",
       "      <td>989.0</td>\n",
       "      <td>NaN</td>\n",
       "    </tr>\n",
       "    <tr>\n",
       "      <th>...</th>\n",
       "      <td>...</td>\n",
       "      <td>...</td>\n",
       "      <td>...</td>\n",
       "      <td>...</td>\n",
       "      <td>...</td>\n",
       "      <td>...</td>\n",
       "      <td>...</td>\n",
       "      <td>...</td>\n",
       "      <td>...</td>\n",
       "      <td>...</td>\n",
       "      <td>...</td>\n",
       "      <td>...</td>\n",
       "      <td>...</td>\n",
       "      <td>...</td>\n",
       "      <td>...</td>\n",
       "      <td>...</td>\n",
       "      <td>...</td>\n",
       "    </tr>\n",
       "    <tr>\n",
       "      <th>995</th>\n",
       "      <td>2018-10-25</td>\n",
       "      <td>2947.0</td>\n",
       "      <td>96.0</td>\n",
       "      <td>61.89</td>\n",
       "      <td>431.10</td>\n",
       "      <td>180.18</td>\n",
       "      <td>272.30</td>\n",
       "      <td>710.0</td>\n",
       "      <td>1450.0</td>\n",
       "      <td>167.0</td>\n",
       "      <td>13.22</td>\n",
       "      <td>2280.0</td>\n",
       "      <td>144.35</td>\n",
       "      <td>NaN</td>\n",
       "      <td>1550.0</td>\n",
       "      <td>1130.0</td>\n",
       "      <td>525.0</td>\n",
       "    </tr>\n",
       "    <tr>\n",
       "      <th>996</th>\n",
       "      <td>2018-10-26</td>\n",
       "      <td>NaN</td>\n",
       "      <td>95.0</td>\n",
       "      <td>61.70</td>\n",
       "      <td>430.25</td>\n",
       "      <td>180.13</td>\n",
       "      <td>271.05</td>\n",
       "      <td>739.0</td>\n",
       "      <td>1430.0</td>\n",
       "      <td>169.0</td>\n",
       "      <td>13.20</td>\n",
       "      <td>2300.0</td>\n",
       "      <td>141.70</td>\n",
       "      <td>1997.0</td>\n",
       "      <td>1598.0</td>\n",
       "      <td>1130.0</td>\n",
       "      <td>NaN</td>\n",
       "    </tr>\n",
       "    <tr>\n",
       "      <th>997</th>\n",
       "      <td>2018-10-29</td>\n",
       "      <td>NaN</td>\n",
       "      <td>95.0</td>\n",
       "      <td>NaN</td>\n",
       "      <td>430.20</td>\n",
       "      <td>180.72</td>\n",
       "      <td>271.00</td>\n",
       "      <td>NaN</td>\n",
       "      <td>1450.0</td>\n",
       "      <td>169.0</td>\n",
       "      <td>13.20</td>\n",
       "      <td>NaN</td>\n",
       "      <td>140.00</td>\n",
       "      <td>NaN</td>\n",
       "      <td>1570.0</td>\n",
       "      <td>1120.0</td>\n",
       "      <td>515.0</td>\n",
       "    </tr>\n",
       "    <tr>\n",
       "      <th>998</th>\n",
       "      <td>2018-10-30</td>\n",
       "      <td>NaN</td>\n",
       "      <td>91.0</td>\n",
       "      <td>60.00</td>\n",
       "      <td>426.00</td>\n",
       "      <td>180.23</td>\n",
       "      <td>268.00</td>\n",
       "      <td>NaN</td>\n",
       "      <td>1425.0</td>\n",
       "      <td>163.0</td>\n",
       "      <td>13.07</td>\n",
       "      <td>2300.0</td>\n",
       "      <td>138.10</td>\n",
       "      <td>1965.0</td>\n",
       "      <td>1570.0</td>\n",
       "      <td>1120.0</td>\n",
       "      <td>519.0</td>\n",
       "    </tr>\n",
       "    <tr>\n",
       "      <th>999</th>\n",
       "      <td>2018-10-31</td>\n",
       "      <td>2950.0</td>\n",
       "      <td>90.0</td>\n",
       "      <td>60.00</td>\n",
       "      <td>416.50</td>\n",
       "      <td>180.72</td>\n",
       "      <td>271.50</td>\n",
       "      <td>739.0</td>\n",
       "      <td>1469.0</td>\n",
       "      <td>167.0</td>\n",
       "      <td>12.55</td>\n",
       "      <td>2306.0</td>\n",
       "      <td>138.20</td>\n",
       "      <td>1965.0</td>\n",
       "      <td>1570.0</td>\n",
       "      <td>NaN</td>\n",
       "      <td>503.0</td>\n",
       "    </tr>\n",
       "  </tbody>\n",
       "</table>\n",
       "<p>1000 rows × 17 columns</p>\n",
       "</div>"
      ],
      "text/plain": [
       "          Date     GAZ    ADI    ATL     ATW     BOA     BCP    BCI     CMA  \\\n",
       "0   2015-01-01     NaN    NaN    NaN     NaN     NaN     NaN    NaN     NaN   \n",
       "1   2015-01-02  1999.0  283.0  68.80  343.90  215.19  211.50  710.0     NaN   \n",
       "2   2015-01-05     NaN    NaN    NaN     NaN     NaN     NaN    NaN     NaN   \n",
       "3   2015-01-06     NaN  275.0  65.16  343.90  211.74  214.50  712.0     NaN   \n",
       "4   2015-01-07     NaN  280.0  68.60  348.90  214.65  217.00    NaN     NaN   \n",
       "..         ...     ...    ...    ...     ...     ...     ...    ...     ...   \n",
       "995 2018-10-25  2947.0   96.0  61.89  431.10  180.18  272.30  710.0  1450.0   \n",
       "996 2018-10-26     NaN   95.0  61.70  430.25  180.13  271.05  739.0  1430.0   \n",
       "997 2018-10-29     NaN   95.0    NaN  430.20  180.72  271.00    NaN  1450.0   \n",
       "998 2018-10-30     NaN   91.0  60.00  426.00  180.23  268.00    NaN  1425.0   \n",
       "999 2018-10-31  2950.0   90.0  60.00  416.50  180.72  271.50  739.0  1469.0   \n",
       "\n",
       "       CSR    ADH     HPS     IAM     LBV     LHM     MNG    SID  \n",
       "0      NaN    NaN     NaN     NaN     NaN     NaN     NaN    NaN  \n",
       "1      NaN  37.50   375.0  115.00     NaN     NaN   964.0  950.0  \n",
       "2      NaN    NaN     NaN     NaN     NaN     NaN     NaN    NaN  \n",
       "3    111.0  38.00   370.0  114.75     NaN  1445.0  1019.0  995.0  \n",
       "4      NaN  39.00   371.0  116.60     NaN  1431.0   989.0    NaN  \n",
       "..     ...    ...     ...     ...     ...     ...     ...    ...  \n",
       "995  167.0  13.22  2280.0  144.35     NaN  1550.0  1130.0  525.0  \n",
       "996  169.0  13.20  2300.0  141.70  1997.0  1598.0  1130.0    NaN  \n",
       "997  169.0  13.20     NaN  140.00     NaN  1570.0  1120.0  515.0  \n",
       "998  163.0  13.07  2300.0  138.10  1965.0  1570.0  1120.0  519.0  \n",
       "999  167.0  12.55  2306.0  138.20  1965.0  1570.0     NaN  503.0  \n",
       "\n",
       "[1000 rows x 17 columns]"
      ]
     },
     "execution_count": 3,
     "metadata": {},
     "output_type": "execute_result"
    }
   ],
   "source": [
    "\n",
    "start_date = \"2015-01-01\"\n",
    "end_date = \"2020-01-01\"\n",
    "\n",
    "stocks_tickers = [\n",
    "    \"GAZ\",\n",
    "    \"ADI\",\n",
    "    \"ATL\",\n",
    "    \"ATW\",\n",
    "    \"BOA\",\n",
    "    \"BCP\",\n",
    "    \"BCI\",\n",
    "    \"CMA\",\n",
    "    \"CSR\",\n",
    "    \"ADH\",\n",
    "    \"HPS\",\n",
    "    \"IAM\",\n",
    "    \"LBV\",\n",
    "    \"LHM\",\n",
    "    \"MNG\",\n",
    "    \"SID\"\n",
    "]\n",
    "\n",
    "date_range = pd.date_range(start=start_date, end=end_date, name=\"Date\")\n",
    "\n",
    "filtered_dates = date_range[date_range.weekday < 5]\n",
    "\n",
    "main_df = pd.DataFrame({\"Date\": filtered_dates})\n",
    "\n",
    "def load_ticker_df(main_df, ticker, is_an_index=False):\n",
    "    base_path = \"indexes/\" if is_an_index else \"stocks/\"\n",
    "    ticker_df = pd.read_csv(base_path + ticker + \".csv\", dtype={\"Dernier\": str})\n",
    "    ticker_df = ticker_df[[\"Date\", \"Dernier\"]]\n",
    "    ticker_df[\"Date\"] = pd.to_datetime(ticker_df[\"Date\"], format=\"%d/%m/%Y\")\n",
    "    ticker_df.rename(columns={\"Dernier\": ticker}, inplace=True)\n",
    "    ticker_df[ticker] = ticker_df[ticker].str.replace(\".\", \"\")\n",
    "    ticker_df[ticker] = pd.to_numeric(ticker_df[ticker].str.replace(\",\", \".\"))\n",
    "    main_df = pd.merge(main_df, ticker_df, on=\"Date\", how=\"left\")\n",
    "    return main_df\n",
    "\n",
    "for n, ticker in enumerate(stocks_tickers):\n",
    "    main_df = load_ticker_df(main_df, ticker)\n",
    "\n",
    "main_df = main_df.sort_values(by=[\"Date\"])\n",
    "\n",
    "print(len(main_df))\n",
    "\n",
    "main_df.head(1000)"
   ]
  },
  {
   "cell_type": "code",
   "execution_count": 4,
   "metadata": {},
   "outputs": [
    {
     "data": {
      "text/html": [
       "<div>\n",
       "<style scoped>\n",
       "    .dataframe tbody tr th:only-of-type {\n",
       "        vertical-align: middle;\n",
       "    }\n",
       "\n",
       "    .dataframe tbody tr th {\n",
       "        vertical-align: top;\n",
       "    }\n",
       "\n",
       "    .dataframe thead th {\n",
       "        text-align: right;\n",
       "    }\n",
       "</style>\n",
       "<table border=\"1\" class=\"dataframe\">\n",
       "  <thead>\n",
       "    <tr style=\"text-align: right;\">\n",
       "      <th></th>\n",
       "      <th>Date</th>\n",
       "      <th>GAZ</th>\n",
       "      <th>ADI</th>\n",
       "      <th>ATL</th>\n",
       "      <th>ATW</th>\n",
       "      <th>BOA</th>\n",
       "      <th>BCP</th>\n",
       "      <th>BCI</th>\n",
       "      <th>CMA</th>\n",
       "      <th>CSR</th>\n",
       "      <th>ADH</th>\n",
       "      <th>HPS</th>\n",
       "      <th>IAM</th>\n",
       "      <th>LBV</th>\n",
       "      <th>LHM</th>\n",
       "      <th>MNG</th>\n",
       "      <th>SID</th>\n",
       "    </tr>\n",
       "  </thead>\n",
       "  <tbody>\n",
       "    <tr>\n",
       "      <th>0</th>\n",
       "      <td>2015-01-01</td>\n",
       "      <td>1999.0</td>\n",
       "      <td>283.0</td>\n",
       "      <td>68.80</td>\n",
       "      <td>343.90</td>\n",
       "      <td>215.19</td>\n",
       "      <td>211.50</td>\n",
       "      <td>710.0</td>\n",
       "      <td>995.0</td>\n",
       "      <td>111.0</td>\n",
       "      <td>37.50</td>\n",
       "      <td>375.0</td>\n",
       "      <td>115.00</td>\n",
       "      <td>1314.0</td>\n",
       "      <td>1445.0</td>\n",
       "      <td>964.0</td>\n",
       "      <td>950.0</td>\n",
       "    </tr>\n",
       "    <tr>\n",
       "      <th>1</th>\n",
       "      <td>2015-01-02</td>\n",
       "      <td>1999.0</td>\n",
       "      <td>283.0</td>\n",
       "      <td>68.80</td>\n",
       "      <td>343.90</td>\n",
       "      <td>215.19</td>\n",
       "      <td>211.50</td>\n",
       "      <td>710.0</td>\n",
       "      <td>995.0</td>\n",
       "      <td>111.0</td>\n",
       "      <td>37.50</td>\n",
       "      <td>375.0</td>\n",
       "      <td>115.00</td>\n",
       "      <td>1314.0</td>\n",
       "      <td>1445.0</td>\n",
       "      <td>964.0</td>\n",
       "      <td>950.0</td>\n",
       "    </tr>\n",
       "    <tr>\n",
       "      <th>2</th>\n",
       "      <td>2015-01-05</td>\n",
       "      <td>1999.0</td>\n",
       "      <td>283.0</td>\n",
       "      <td>68.80</td>\n",
       "      <td>343.90</td>\n",
       "      <td>215.19</td>\n",
       "      <td>211.50</td>\n",
       "      <td>710.0</td>\n",
       "      <td>995.0</td>\n",
       "      <td>111.0</td>\n",
       "      <td>37.50</td>\n",
       "      <td>375.0</td>\n",
       "      <td>115.00</td>\n",
       "      <td>1314.0</td>\n",
       "      <td>1445.0</td>\n",
       "      <td>964.0</td>\n",
       "      <td>950.0</td>\n",
       "    </tr>\n",
       "    <tr>\n",
       "      <th>3</th>\n",
       "      <td>2015-01-06</td>\n",
       "      <td>1999.0</td>\n",
       "      <td>275.0</td>\n",
       "      <td>65.16</td>\n",
       "      <td>343.90</td>\n",
       "      <td>211.74</td>\n",
       "      <td>214.50</td>\n",
       "      <td>712.0</td>\n",
       "      <td>995.0</td>\n",
       "      <td>111.0</td>\n",
       "      <td>38.00</td>\n",
       "      <td>370.0</td>\n",
       "      <td>114.75</td>\n",
       "      <td>1314.0</td>\n",
       "      <td>1445.0</td>\n",
       "      <td>1019.0</td>\n",
       "      <td>995.0</td>\n",
       "    </tr>\n",
       "    <tr>\n",
       "      <th>4</th>\n",
       "      <td>2015-01-07</td>\n",
       "      <td>1999.0</td>\n",
       "      <td>280.0</td>\n",
       "      <td>68.60</td>\n",
       "      <td>348.90</td>\n",
       "      <td>214.65</td>\n",
       "      <td>217.00</td>\n",
       "      <td>712.0</td>\n",
       "      <td>995.0</td>\n",
       "      <td>111.0</td>\n",
       "      <td>39.00</td>\n",
       "      <td>371.0</td>\n",
       "      <td>116.60</td>\n",
       "      <td>1314.0</td>\n",
       "      <td>1431.0</td>\n",
       "      <td>989.0</td>\n",
       "      <td>995.0</td>\n",
       "    </tr>\n",
       "    <tr>\n",
       "      <th>...</th>\n",
       "      <td>...</td>\n",
       "      <td>...</td>\n",
       "      <td>...</td>\n",
       "      <td>...</td>\n",
       "      <td>...</td>\n",
       "      <td>...</td>\n",
       "      <td>...</td>\n",
       "      <td>...</td>\n",
       "      <td>...</td>\n",
       "      <td>...</td>\n",
       "      <td>...</td>\n",
       "      <td>...</td>\n",
       "      <td>...</td>\n",
       "      <td>...</td>\n",
       "      <td>...</td>\n",
       "      <td>...</td>\n",
       "      <td>...</td>\n",
       "    </tr>\n",
       "    <tr>\n",
       "      <th>995</th>\n",
       "      <td>2018-10-25</td>\n",
       "      <td>2947.0</td>\n",
       "      <td>96.0</td>\n",
       "      <td>61.89</td>\n",
       "      <td>431.10</td>\n",
       "      <td>180.18</td>\n",
       "      <td>272.30</td>\n",
       "      <td>710.0</td>\n",
       "      <td>1450.0</td>\n",
       "      <td>167.0</td>\n",
       "      <td>13.22</td>\n",
       "      <td>2280.0</td>\n",
       "      <td>144.35</td>\n",
       "      <td>1986.0</td>\n",
       "      <td>1550.0</td>\n",
       "      <td>1130.0</td>\n",
       "      <td>525.0</td>\n",
       "    </tr>\n",
       "    <tr>\n",
       "      <th>996</th>\n",
       "      <td>2018-10-26</td>\n",
       "      <td>2947.0</td>\n",
       "      <td>95.0</td>\n",
       "      <td>61.70</td>\n",
       "      <td>430.25</td>\n",
       "      <td>180.13</td>\n",
       "      <td>271.05</td>\n",
       "      <td>739.0</td>\n",
       "      <td>1430.0</td>\n",
       "      <td>169.0</td>\n",
       "      <td>13.20</td>\n",
       "      <td>2300.0</td>\n",
       "      <td>141.70</td>\n",
       "      <td>1997.0</td>\n",
       "      <td>1598.0</td>\n",
       "      <td>1130.0</td>\n",
       "      <td>525.0</td>\n",
       "    </tr>\n",
       "    <tr>\n",
       "      <th>997</th>\n",
       "      <td>2018-10-29</td>\n",
       "      <td>2947.0</td>\n",
       "      <td>95.0</td>\n",
       "      <td>61.70</td>\n",
       "      <td>430.20</td>\n",
       "      <td>180.72</td>\n",
       "      <td>271.00</td>\n",
       "      <td>739.0</td>\n",
       "      <td>1450.0</td>\n",
       "      <td>169.0</td>\n",
       "      <td>13.20</td>\n",
       "      <td>2300.0</td>\n",
       "      <td>140.00</td>\n",
       "      <td>1997.0</td>\n",
       "      <td>1570.0</td>\n",
       "      <td>1120.0</td>\n",
       "      <td>515.0</td>\n",
       "    </tr>\n",
       "    <tr>\n",
       "      <th>998</th>\n",
       "      <td>2018-10-30</td>\n",
       "      <td>2947.0</td>\n",
       "      <td>91.0</td>\n",
       "      <td>60.00</td>\n",
       "      <td>426.00</td>\n",
       "      <td>180.23</td>\n",
       "      <td>268.00</td>\n",
       "      <td>739.0</td>\n",
       "      <td>1425.0</td>\n",
       "      <td>163.0</td>\n",
       "      <td>13.07</td>\n",
       "      <td>2300.0</td>\n",
       "      <td>138.10</td>\n",
       "      <td>1965.0</td>\n",
       "      <td>1570.0</td>\n",
       "      <td>1120.0</td>\n",
       "      <td>519.0</td>\n",
       "    </tr>\n",
       "    <tr>\n",
       "      <th>999</th>\n",
       "      <td>2018-10-31</td>\n",
       "      <td>2950.0</td>\n",
       "      <td>90.0</td>\n",
       "      <td>60.00</td>\n",
       "      <td>416.50</td>\n",
       "      <td>180.72</td>\n",
       "      <td>271.50</td>\n",
       "      <td>739.0</td>\n",
       "      <td>1469.0</td>\n",
       "      <td>167.0</td>\n",
       "      <td>12.55</td>\n",
       "      <td>2306.0</td>\n",
       "      <td>138.20</td>\n",
       "      <td>1965.0</td>\n",
       "      <td>1570.0</td>\n",
       "      <td>1120.0</td>\n",
       "      <td>503.0</td>\n",
       "    </tr>\n",
       "  </tbody>\n",
       "</table>\n",
       "<p>1000 rows × 17 columns</p>\n",
       "</div>"
      ],
      "text/plain": [
       "          Date     GAZ    ADI    ATL     ATW     BOA     BCP    BCI     CMA  \\\n",
       "0   2015-01-01  1999.0  283.0  68.80  343.90  215.19  211.50  710.0   995.0   \n",
       "1   2015-01-02  1999.0  283.0  68.80  343.90  215.19  211.50  710.0   995.0   \n",
       "2   2015-01-05  1999.0  283.0  68.80  343.90  215.19  211.50  710.0   995.0   \n",
       "3   2015-01-06  1999.0  275.0  65.16  343.90  211.74  214.50  712.0   995.0   \n",
       "4   2015-01-07  1999.0  280.0  68.60  348.90  214.65  217.00  712.0   995.0   \n",
       "..         ...     ...    ...    ...     ...     ...     ...    ...     ...   \n",
       "995 2018-10-25  2947.0   96.0  61.89  431.10  180.18  272.30  710.0  1450.0   \n",
       "996 2018-10-26  2947.0   95.0  61.70  430.25  180.13  271.05  739.0  1430.0   \n",
       "997 2018-10-29  2947.0   95.0  61.70  430.20  180.72  271.00  739.0  1450.0   \n",
       "998 2018-10-30  2947.0   91.0  60.00  426.00  180.23  268.00  739.0  1425.0   \n",
       "999 2018-10-31  2950.0   90.0  60.00  416.50  180.72  271.50  739.0  1469.0   \n",
       "\n",
       "       CSR    ADH     HPS     IAM     LBV     LHM     MNG    SID  \n",
       "0    111.0  37.50   375.0  115.00  1314.0  1445.0   964.0  950.0  \n",
       "1    111.0  37.50   375.0  115.00  1314.0  1445.0   964.0  950.0  \n",
       "2    111.0  37.50   375.0  115.00  1314.0  1445.0   964.0  950.0  \n",
       "3    111.0  38.00   370.0  114.75  1314.0  1445.0  1019.0  995.0  \n",
       "4    111.0  39.00   371.0  116.60  1314.0  1431.0   989.0  995.0  \n",
       "..     ...    ...     ...     ...     ...     ...     ...    ...  \n",
       "995  167.0  13.22  2280.0  144.35  1986.0  1550.0  1130.0  525.0  \n",
       "996  169.0  13.20  2300.0  141.70  1997.0  1598.0  1130.0  525.0  \n",
       "997  169.0  13.20  2300.0  140.00  1997.0  1570.0  1120.0  515.0  \n",
       "998  163.0  13.07  2300.0  138.10  1965.0  1570.0  1120.0  519.0  \n",
       "999  167.0  12.55  2306.0  138.20  1965.0  1570.0  1120.0  503.0  \n",
       "\n",
       "[1000 rows x 17 columns]"
      ]
     },
     "execution_count": 4,
     "metadata": {},
     "output_type": "execute_result"
    }
   ],
   "source": [
    "filled_main_df = main_df.ffill().bfill()\n",
    "filled_main_df.head(1000)"
   ]
  },
  {
   "cell_type": "code",
   "execution_count": 5,
   "metadata": {},
   "outputs": [
    {
     "data": {
      "text/html": [
       "<div>\n",
       "<style scoped>\n",
       "    .dataframe tbody tr th:only-of-type {\n",
       "        vertical-align: middle;\n",
       "    }\n",
       "\n",
       "    .dataframe tbody tr th {\n",
       "        vertical-align: top;\n",
       "    }\n",
       "\n",
       "    .dataframe thead th {\n",
       "        text-align: right;\n",
       "    }\n",
       "</style>\n",
       "<table border=\"1\" class=\"dataframe\">\n",
       "  <thead>\n",
       "    <tr style=\"text-align: right;\">\n",
       "      <th></th>\n",
       "      <th>GAZ</th>\n",
       "      <th>ADI</th>\n",
       "      <th>ATL</th>\n",
       "      <th>ATW</th>\n",
       "      <th>BOA</th>\n",
       "      <th>BCP</th>\n",
       "      <th>BCI</th>\n",
       "      <th>CMA</th>\n",
       "      <th>CSR</th>\n",
       "      <th>ADH</th>\n",
       "      <th>HPS</th>\n",
       "      <th>IAM</th>\n",
       "      <th>LBV</th>\n",
       "      <th>LHM</th>\n",
       "      <th>MNG</th>\n",
       "      <th>SID</th>\n",
       "    </tr>\n",
       "    <tr>\n",
       "      <th>Date</th>\n",
       "      <th></th>\n",
       "      <th></th>\n",
       "      <th></th>\n",
       "      <th></th>\n",
       "      <th></th>\n",
       "      <th></th>\n",
       "      <th></th>\n",
       "      <th></th>\n",
       "      <th></th>\n",
       "      <th></th>\n",
       "      <th></th>\n",
       "      <th></th>\n",
       "      <th></th>\n",
       "      <th></th>\n",
       "      <th></th>\n",
       "      <th></th>\n",
       "    </tr>\n",
       "  </thead>\n",
       "  <tbody>\n",
       "    <tr>\n",
       "      <th>2015-01-01</th>\n",
       "      <td>NaN</td>\n",
       "      <td>NaN</td>\n",
       "      <td>NaN</td>\n",
       "      <td>NaN</td>\n",
       "      <td>NaN</td>\n",
       "      <td>NaN</td>\n",
       "      <td>NaN</td>\n",
       "      <td>NaN</td>\n",
       "      <td>NaN</td>\n",
       "      <td>NaN</td>\n",
       "      <td>NaN</td>\n",
       "      <td>NaN</td>\n",
       "      <td>NaN</td>\n",
       "      <td>NaN</td>\n",
       "      <td>NaN</td>\n",
       "      <td>NaN</td>\n",
       "    </tr>\n",
       "    <tr>\n",
       "      <th>2015-01-02</th>\n",
       "      <td>0.000000</td>\n",
       "      <td>0.000000</td>\n",
       "      <td>0.000000</td>\n",
       "      <td>0.000000</td>\n",
       "      <td>0.000000</td>\n",
       "      <td>0.000000</td>\n",
       "      <td>0.000000</td>\n",
       "      <td>0.000000</td>\n",
       "      <td>0.000000</td>\n",
       "      <td>0.000000</td>\n",
       "      <td>0.000000</td>\n",
       "      <td>0.000000</td>\n",
       "      <td>0.000000</td>\n",
       "      <td>0.000000</td>\n",
       "      <td>0.000000</td>\n",
       "      <td>0.000000</td>\n",
       "    </tr>\n",
       "    <tr>\n",
       "      <th>2015-01-05</th>\n",
       "      <td>0.000000</td>\n",
       "      <td>0.000000</td>\n",
       "      <td>0.000000</td>\n",
       "      <td>0.000000</td>\n",
       "      <td>0.000000</td>\n",
       "      <td>0.000000</td>\n",
       "      <td>0.000000</td>\n",
       "      <td>0.000000</td>\n",
       "      <td>0.000000</td>\n",
       "      <td>0.000000</td>\n",
       "      <td>0.000000</td>\n",
       "      <td>0.000000</td>\n",
       "      <td>0.000000</td>\n",
       "      <td>0.000000</td>\n",
       "      <td>0.000000</td>\n",
       "      <td>0.000000</td>\n",
       "    </tr>\n",
       "    <tr>\n",
       "      <th>2015-01-06</th>\n",
       "      <td>0.000000</td>\n",
       "      <td>-0.028269</td>\n",
       "      <td>-0.052907</td>\n",
       "      <td>0.000000</td>\n",
       "      <td>-0.016032</td>\n",
       "      <td>0.014184</td>\n",
       "      <td>0.002817</td>\n",
       "      <td>0.000000</td>\n",
       "      <td>0.000000</td>\n",
       "      <td>0.013333</td>\n",
       "      <td>-0.013333</td>\n",
       "      <td>-0.002174</td>\n",
       "      <td>0.000000</td>\n",
       "      <td>0.000000</td>\n",
       "      <td>0.057054</td>\n",
       "      <td>0.047368</td>\n",
       "    </tr>\n",
       "    <tr>\n",
       "      <th>2015-01-07</th>\n",
       "      <td>0.000000</td>\n",
       "      <td>0.018182</td>\n",
       "      <td>0.052793</td>\n",
       "      <td>0.014539</td>\n",
       "      <td>0.013743</td>\n",
       "      <td>0.011655</td>\n",
       "      <td>0.000000</td>\n",
       "      <td>0.000000</td>\n",
       "      <td>0.000000</td>\n",
       "      <td>0.026316</td>\n",
       "      <td>0.002703</td>\n",
       "      <td>0.016122</td>\n",
       "      <td>0.000000</td>\n",
       "      <td>-0.009689</td>\n",
       "      <td>-0.029441</td>\n",
       "      <td>0.000000</td>\n",
       "    </tr>\n",
       "    <tr>\n",
       "      <th>...</th>\n",
       "      <td>...</td>\n",
       "      <td>...</td>\n",
       "      <td>...</td>\n",
       "      <td>...</td>\n",
       "      <td>...</td>\n",
       "      <td>...</td>\n",
       "      <td>...</td>\n",
       "      <td>...</td>\n",
       "      <td>...</td>\n",
       "      <td>...</td>\n",
       "      <td>...</td>\n",
       "      <td>...</td>\n",
       "      <td>...</td>\n",
       "      <td>...</td>\n",
       "      <td>...</td>\n",
       "      <td>...</td>\n",
       "    </tr>\n",
       "    <tr>\n",
       "      <th>2018-10-25</th>\n",
       "      <td>0.000679</td>\n",
       "      <td>-0.010309</td>\n",
       "      <td>0.044204</td>\n",
       "      <td>0.000232</td>\n",
       "      <td>-0.005684</td>\n",
       "      <td>0.000735</td>\n",
       "      <td>-0.053333</td>\n",
       "      <td>0.013986</td>\n",
       "      <td>-0.011834</td>\n",
       "      <td>-0.020741</td>\n",
       "      <td>-0.008696</td>\n",
       "      <td>-0.004483</td>\n",
       "      <td>0.000000</td>\n",
       "      <td>-0.012739</td>\n",
       "      <td>-0.017391</td>\n",
       "      <td>-0.022346</td>\n",
       "    </tr>\n",
       "    <tr>\n",
       "      <th>2018-10-26</th>\n",
       "      <td>0.000000</td>\n",
       "      <td>-0.010417</td>\n",
       "      <td>-0.003070</td>\n",
       "      <td>-0.001972</td>\n",
       "      <td>-0.000278</td>\n",
       "      <td>-0.004591</td>\n",
       "      <td>0.040845</td>\n",
       "      <td>-0.013793</td>\n",
       "      <td>0.011976</td>\n",
       "      <td>-0.001513</td>\n",
       "      <td>0.008772</td>\n",
       "      <td>-0.018358</td>\n",
       "      <td>0.005539</td>\n",
       "      <td>0.030968</td>\n",
       "      <td>0.000000</td>\n",
       "      <td>0.000000</td>\n",
       "    </tr>\n",
       "    <tr>\n",
       "      <th>2018-10-29</th>\n",
       "      <td>0.000000</td>\n",
       "      <td>0.000000</td>\n",
       "      <td>0.000000</td>\n",
       "      <td>-0.000116</td>\n",
       "      <td>0.003275</td>\n",
       "      <td>-0.000184</td>\n",
       "      <td>0.000000</td>\n",
       "      <td>0.013986</td>\n",
       "      <td>0.000000</td>\n",
       "      <td>0.000000</td>\n",
       "      <td>0.000000</td>\n",
       "      <td>-0.011997</td>\n",
       "      <td>0.000000</td>\n",
       "      <td>-0.017522</td>\n",
       "      <td>-0.008850</td>\n",
       "      <td>-0.019048</td>\n",
       "    </tr>\n",
       "    <tr>\n",
       "      <th>2018-10-30</th>\n",
       "      <td>0.000000</td>\n",
       "      <td>-0.042105</td>\n",
       "      <td>-0.027553</td>\n",
       "      <td>-0.009763</td>\n",
       "      <td>-0.002711</td>\n",
       "      <td>-0.011070</td>\n",
       "      <td>0.000000</td>\n",
       "      <td>-0.017241</td>\n",
       "      <td>-0.035503</td>\n",
       "      <td>-0.009848</td>\n",
       "      <td>0.000000</td>\n",
       "      <td>-0.013571</td>\n",
       "      <td>-0.016024</td>\n",
       "      <td>0.000000</td>\n",
       "      <td>0.000000</td>\n",
       "      <td>0.007767</td>\n",
       "    </tr>\n",
       "    <tr>\n",
       "      <th>2018-10-31</th>\n",
       "      <td>0.001018</td>\n",
       "      <td>-0.010989</td>\n",
       "      <td>0.000000</td>\n",
       "      <td>-0.022300</td>\n",
       "      <td>0.002719</td>\n",
       "      <td>0.013060</td>\n",
       "      <td>0.000000</td>\n",
       "      <td>0.030877</td>\n",
       "      <td>0.024540</td>\n",
       "      <td>-0.039786</td>\n",
       "      <td>0.002609</td>\n",
       "      <td>0.000724</td>\n",
       "      <td>0.000000</td>\n",
       "      <td>0.000000</td>\n",
       "      <td>0.000000</td>\n",
       "      <td>-0.030829</td>\n",
       "    </tr>\n",
       "  </tbody>\n",
       "</table>\n",
       "<p>1000 rows × 16 columns</p>\n",
       "</div>"
      ],
      "text/plain": [
       "                 GAZ       ADI       ATL       ATW       BOA       BCP  \\\n",
       "Date                                                                     \n",
       "2015-01-01       NaN       NaN       NaN       NaN       NaN       NaN   \n",
       "2015-01-02  0.000000  0.000000  0.000000  0.000000  0.000000  0.000000   \n",
       "2015-01-05  0.000000  0.000000  0.000000  0.000000  0.000000  0.000000   \n",
       "2015-01-06  0.000000 -0.028269 -0.052907  0.000000 -0.016032  0.014184   \n",
       "2015-01-07  0.000000  0.018182  0.052793  0.014539  0.013743  0.011655   \n",
       "...              ...       ...       ...       ...       ...       ...   \n",
       "2018-10-25  0.000679 -0.010309  0.044204  0.000232 -0.005684  0.000735   \n",
       "2018-10-26  0.000000 -0.010417 -0.003070 -0.001972 -0.000278 -0.004591   \n",
       "2018-10-29  0.000000  0.000000  0.000000 -0.000116  0.003275 -0.000184   \n",
       "2018-10-30  0.000000 -0.042105 -0.027553 -0.009763 -0.002711 -0.011070   \n",
       "2018-10-31  0.001018 -0.010989  0.000000 -0.022300  0.002719  0.013060   \n",
       "\n",
       "                 BCI       CMA       CSR       ADH       HPS       IAM  \\\n",
       "Date                                                                     \n",
       "2015-01-01       NaN       NaN       NaN       NaN       NaN       NaN   \n",
       "2015-01-02  0.000000  0.000000  0.000000  0.000000  0.000000  0.000000   \n",
       "2015-01-05  0.000000  0.000000  0.000000  0.000000  0.000000  0.000000   \n",
       "2015-01-06  0.002817  0.000000  0.000000  0.013333 -0.013333 -0.002174   \n",
       "2015-01-07  0.000000  0.000000  0.000000  0.026316  0.002703  0.016122   \n",
       "...              ...       ...       ...       ...       ...       ...   \n",
       "2018-10-25 -0.053333  0.013986 -0.011834 -0.020741 -0.008696 -0.004483   \n",
       "2018-10-26  0.040845 -0.013793  0.011976 -0.001513  0.008772 -0.018358   \n",
       "2018-10-29  0.000000  0.013986  0.000000  0.000000  0.000000 -0.011997   \n",
       "2018-10-30  0.000000 -0.017241 -0.035503 -0.009848  0.000000 -0.013571   \n",
       "2018-10-31  0.000000  0.030877  0.024540 -0.039786  0.002609  0.000724   \n",
       "\n",
       "                 LBV       LHM       MNG       SID  \n",
       "Date                                                \n",
       "2015-01-01       NaN       NaN       NaN       NaN  \n",
       "2015-01-02  0.000000  0.000000  0.000000  0.000000  \n",
       "2015-01-05  0.000000  0.000000  0.000000  0.000000  \n",
       "2015-01-06  0.000000  0.000000  0.057054  0.047368  \n",
       "2015-01-07  0.000000 -0.009689 -0.029441  0.000000  \n",
       "...              ...       ...       ...       ...  \n",
       "2018-10-25  0.000000 -0.012739 -0.017391 -0.022346  \n",
       "2018-10-26  0.005539  0.030968  0.000000  0.000000  \n",
       "2018-10-29  0.000000 -0.017522 -0.008850 -0.019048  \n",
       "2018-10-30 -0.016024  0.000000  0.000000  0.007767  \n",
       "2018-10-31  0.000000  0.000000  0.000000 -0.030829  \n",
       "\n",
       "[1000 rows x 16 columns]"
      ]
     },
     "execution_count": 5,
     "metadata": {},
     "output_type": "execute_result"
    }
   ],
   "source": [
    "filled_main_df = filled_main_df.set_index(\"Date\")\n",
    "\n",
    "returns = filled_main_df.pct_change()\n",
    "\n",
    "returns.head(1000)"
   ]
  },
  {
   "cell_type": "code",
   "execution_count": 6,
   "metadata": {},
   "outputs": [
    {
     "data": {
      "image/png": "[encoded data removed]",
      "text/plain": [
       "<Figure size 1400x1400 with 2 Axes>"
      ]
     },
     "metadata": {},
     "output_type": "display_data"
    }
   ],
   "source": [
    "corr_matrix = returns.corr()\n",
    "\n",
    "corr_matrix.head(100)\n",
    "\n",
    "plt.figure(figsize=(14, 14))\n",
    "\n",
    "# Create the heatmap using the `heatmap` function of Seaborn\n",
    "sns.heatmap(corr_matrix, cmap='coolwarm', annot=True)\n",
    "\n",
    "plt.title(\"Correlation Heatmap\")\n",
    "\n",
    "# Display the heatmap using the `show` method of the `pyplot` module from matplotlib.\n",
    "plt.show()"
   ]
  },
  {
   "cell_type": "code",
   "execution_count": 7,
   "metadata": {},
   "outputs": [
    {
     "data": {
      "text/html": [
       "<div>\n",
       "<style scoped>\n",
       "    .dataframe tbody tr th:only-of-type {\n",
       "        vertical-align: middle;\n",
       "    }\n",
       "\n",
       "    .dataframe tbody tr th {\n",
       "        vertical-align: top;\n",
       "    }\n",
       "\n",
       "    .dataframe thead th {\n",
       "        text-align: right;\n",
       "    }\n",
       "</style>\n",
       "<table border=\"1\" class=\"dataframe\">\n",
       "  <thead>\n",
       "    <tr style=\"text-align: right;\">\n",
       "      <th></th>\n",
       "      <th>GAZ</th>\n",
       "      <th>ADI</th>\n",
       "      <th>ATL</th>\n",
       "      <th>ATW</th>\n",
       "      <th>BOA</th>\n",
       "      <th>BCP</th>\n",
       "      <th>BCI</th>\n",
       "      <th>CMA</th>\n",
       "      <th>CSR</th>\n",
       "      <th>ADH</th>\n",
       "      <th>HPS</th>\n",
       "      <th>IAM</th>\n",
       "      <th>LBV</th>\n",
       "      <th>LHM</th>\n",
       "      <th>MNG</th>\n",
       "      <th>SID</th>\n",
       "    </tr>\n",
       "  </thead>\n",
       "  <tbody>\n",
       "    <tr>\n",
       "      <th>GAZ</th>\n",
       "      <td>0.110857</td>\n",
       "      <td>0.008433</td>\n",
       "      <td>-0.001985</td>\n",
       "      <td>-0.000115</td>\n",
       "      <td>0.003562</td>\n",
       "      <td>0.002449</td>\n",
       "      <td>0.007181</td>\n",
       "      <td>0.007855</td>\n",
       "      <td>0.007811</td>\n",
       "      <td>0.005978</td>\n",
       "      <td>0.007873</td>\n",
       "      <td>0.001191</td>\n",
       "      <td>0.003223</td>\n",
       "      <td>0.005368</td>\n",
       "      <td>0.006196</td>\n",
       "      <td>0.004605</td>\n",
       "    </tr>\n",
       "    <tr>\n",
       "      <th>ADI</th>\n",
       "      <td>0.008433</td>\n",
       "      <td>0.310072</td>\n",
       "      <td>0.011676</td>\n",
       "      <td>0.007420</td>\n",
       "      <td>0.002647</td>\n",
       "      <td>0.009193</td>\n",
       "      <td>0.005635</td>\n",
       "      <td>0.001623</td>\n",
       "      <td>0.011665</td>\n",
       "      <td>0.054614</td>\n",
       "      <td>0.003274</td>\n",
       "      <td>0.008248</td>\n",
       "      <td>0.001762</td>\n",
       "      <td>0.010896</td>\n",
       "      <td>0.016094</td>\n",
       "      <td>0.020545</td>\n",
       "    </tr>\n",
       "    <tr>\n",
       "      <th>ATL</th>\n",
       "      <td>-0.001985</td>\n",
       "      <td>0.011676</td>\n",
       "      <td>0.091365</td>\n",
       "      <td>0.002799</td>\n",
       "      <td>0.004899</td>\n",
       "      <td>-0.000399</td>\n",
       "      <td>0.003406</td>\n",
       "      <td>-0.000432</td>\n",
       "      <td>0.005231</td>\n",
       "      <td>0.008675</td>\n",
       "      <td>0.003622</td>\n",
       "      <td>0.002902</td>\n",
       "      <td>0.003454</td>\n",
       "      <td>0.002243</td>\n",
       "      <td>0.004069</td>\n",
       "      <td>0.009186</td>\n",
       "    </tr>\n",
       "    <tr>\n",
       "      <th>ATW</th>\n",
       "      <td>-0.000115</td>\n",
       "      <td>0.007420</td>\n",
       "      <td>0.002799</td>\n",
       "      <td>0.023597</td>\n",
       "      <td>0.002414</td>\n",
       "      <td>0.008689</td>\n",
       "      <td>-0.002203</td>\n",
       "      <td>0.003171</td>\n",
       "      <td>0.005165</td>\n",
       "      <td>0.006949</td>\n",
       "      <td>0.002145</td>\n",
       "      <td>0.005209</td>\n",
       "      <td>-0.001334</td>\n",
       "      <td>0.008326</td>\n",
       "      <td>0.004369</td>\n",
       "      <td>0.004394</td>\n",
       "    </tr>\n",
       "    <tr>\n",
       "      <th>BOA</th>\n",
       "      <td>0.003562</td>\n",
       "      <td>0.002647</td>\n",
       "      <td>0.004899</td>\n",
       "      <td>0.002414</td>\n",
       "      <td>0.037479</td>\n",
       "      <td>0.004084</td>\n",
       "      <td>-0.000704</td>\n",
       "      <td>0.005246</td>\n",
       "      <td>0.002475</td>\n",
       "      <td>0.009771</td>\n",
       "      <td>0.003589</td>\n",
       "      <td>0.003718</td>\n",
       "      <td>0.001650</td>\n",
       "      <td>0.006990</td>\n",
       "      <td>0.002066</td>\n",
       "      <td>0.004840</td>\n",
       "    </tr>\n",
       "    <tr>\n",
       "      <th>BCP</th>\n",
       "      <td>0.002449</td>\n",
       "      <td>0.009193</td>\n",
       "      <td>-0.000399</td>\n",
       "      <td>0.008689</td>\n",
       "      <td>0.004084</td>\n",
       "      <td>0.029118</td>\n",
       "      <td>0.001752</td>\n",
       "      <td>0.010030</td>\n",
       "      <td>0.009434</td>\n",
       "      <td>0.010056</td>\n",
       "      <td>0.003304</td>\n",
       "      <td>0.005618</td>\n",
       "      <td>-0.000159</td>\n",
       "      <td>0.007715</td>\n",
       "      <td>0.005758</td>\n",
       "      <td>0.004071</td>\n",
       "    </tr>\n",
       "    <tr>\n",
       "      <th>BCI</th>\n",
       "      <td>0.007181</td>\n",
       "      <td>0.005635</td>\n",
       "      <td>0.003406</td>\n",
       "      <td>-0.002203</td>\n",
       "      <td>-0.000704</td>\n",
       "      <td>0.001752</td>\n",
       "      <td>0.121338</td>\n",
       "      <td>0.001837</td>\n",
       "      <td>0.004329</td>\n",
       "      <td>0.005524</td>\n",
       "      <td>0.012620</td>\n",
       "      <td>0.001743</td>\n",
       "      <td>0.000322</td>\n",
       "      <td>0.005720</td>\n",
       "      <td>0.006845</td>\n",
       "      <td>0.004407</td>\n",
       "    </tr>\n",
       "    <tr>\n",
       "      <th>CMA</th>\n",
       "      <td>0.007855</td>\n",
       "      <td>0.001623</td>\n",
       "      <td>-0.000432</td>\n",
       "      <td>0.003171</td>\n",
       "      <td>0.005246</td>\n",
       "      <td>0.010030</td>\n",
       "      <td>0.001837</td>\n",
       "      <td>0.090296</td>\n",
       "      <td>0.009499</td>\n",
       "      <td>0.000455</td>\n",
       "      <td>0.005687</td>\n",
       "      <td>0.004711</td>\n",
       "      <td>0.001979</td>\n",
       "      <td>0.014387</td>\n",
       "      <td>0.009534</td>\n",
       "      <td>0.009928</td>\n",
       "    </tr>\n",
       "    <tr>\n",
       "      <th>CSR</th>\n",
       "      <td>0.007811</td>\n",
       "      <td>0.011665</td>\n",
       "      <td>0.005231</td>\n",
       "      <td>0.005165</td>\n",
       "      <td>0.002475</td>\n",
       "      <td>0.009434</td>\n",
       "      <td>0.004329</td>\n",
       "      <td>0.009499</td>\n",
       "      <td>0.078823</td>\n",
       "      <td>0.011572</td>\n",
       "      <td>-0.000076</td>\n",
       "      <td>0.004209</td>\n",
       "      <td>0.003140</td>\n",
       "      <td>0.012341</td>\n",
       "      <td>0.007029</td>\n",
       "      <td>0.006617</td>\n",
       "    </tr>\n",
       "    <tr>\n",
       "      <th>ADH</th>\n",
       "      <td>0.005978</td>\n",
       "      <td>0.054614</td>\n",
       "      <td>0.008675</td>\n",
       "      <td>0.006949</td>\n",
       "      <td>0.009771</td>\n",
       "      <td>0.010056</td>\n",
       "      <td>0.005524</td>\n",
       "      <td>0.000455</td>\n",
       "      <td>0.011572</td>\n",
       "      <td>0.120267</td>\n",
       "      <td>0.004817</td>\n",
       "      <td>0.008756</td>\n",
       "      <td>0.006986</td>\n",
       "      <td>0.011872</td>\n",
       "      <td>0.007425</td>\n",
       "      <td>0.009183</td>\n",
       "    </tr>\n",
       "    <tr>\n",
       "      <th>HPS</th>\n",
       "      <td>0.007873</td>\n",
       "      <td>0.003274</td>\n",
       "      <td>0.003622</td>\n",
       "      <td>0.002145</td>\n",
       "      <td>0.003589</td>\n",
       "      <td>0.003304</td>\n",
       "      <td>0.012620</td>\n",
       "      <td>0.005687</td>\n",
       "      <td>-0.000076</td>\n",
       "      <td>0.004817</td>\n",
       "      <td>0.092778</td>\n",
       "      <td>0.003181</td>\n",
       "      <td>-0.003100</td>\n",
       "      <td>0.008315</td>\n",
       "      <td>0.003015</td>\n",
       "      <td>0.007689</td>\n",
       "    </tr>\n",
       "    <tr>\n",
       "      <th>IAM</th>\n",
       "      <td>0.001191</td>\n",
       "      <td>0.008248</td>\n",
       "      <td>0.002902</td>\n",
       "      <td>0.005209</td>\n",
       "      <td>0.003718</td>\n",
       "      <td>0.005618</td>\n",
       "      <td>0.001743</td>\n",
       "      <td>0.004711</td>\n",
       "      <td>0.004209</td>\n",
       "      <td>0.008756</td>\n",
       "      <td>0.003181</td>\n",
       "      <td>0.016900</td>\n",
       "      <td>0.000800</td>\n",
       "      <td>0.007258</td>\n",
       "      <td>0.005754</td>\n",
       "      <td>0.005621</td>\n",
       "    </tr>\n",
       "    <tr>\n",
       "      <th>LBV</th>\n",
       "      <td>0.003223</td>\n",
       "      <td>0.001762</td>\n",
       "      <td>0.003454</td>\n",
       "      <td>-0.001334</td>\n",
       "      <td>0.001650</td>\n",
       "      <td>-0.000159</td>\n",
       "      <td>0.000322</td>\n",
       "      <td>0.001979</td>\n",
       "      <td>0.003140</td>\n",
       "      <td>0.006986</td>\n",
       "      <td>-0.003100</td>\n",
       "      <td>0.000800</td>\n",
       "      <td>0.086787</td>\n",
       "      <td>0.001430</td>\n",
       "      <td>-0.001570</td>\n",
       "      <td>0.001970</td>\n",
       "    </tr>\n",
       "    <tr>\n",
       "      <th>LHM</th>\n",
       "      <td>0.005368</td>\n",
       "      <td>0.010896</td>\n",
       "      <td>0.002243</td>\n",
       "      <td>0.008326</td>\n",
       "      <td>0.006990</td>\n",
       "      <td>0.007715</td>\n",
       "      <td>0.005720</td>\n",
       "      <td>0.014387</td>\n",
       "      <td>0.012341</td>\n",
       "      <td>0.011872</td>\n",
       "      <td>0.008315</td>\n",
       "      <td>0.007258</td>\n",
       "      <td>0.001430</td>\n",
       "      <td>0.091699</td>\n",
       "      <td>0.007869</td>\n",
       "      <td>0.014935</td>\n",
       "    </tr>\n",
       "    <tr>\n",
       "      <th>MNG</th>\n",
       "      <td>0.006196</td>\n",
       "      <td>0.016094</td>\n",
       "      <td>0.004069</td>\n",
       "      <td>0.004369</td>\n",
       "      <td>0.002066</td>\n",
       "      <td>0.005758</td>\n",
       "      <td>0.006845</td>\n",
       "      <td>0.009534</td>\n",
       "      <td>0.007029</td>\n",
       "      <td>0.007425</td>\n",
       "      <td>0.003015</td>\n",
       "      <td>0.005754</td>\n",
       "      <td>-0.001570</td>\n",
       "      <td>0.007869</td>\n",
       "      <td>0.176660</td>\n",
       "      <td>0.018530</td>\n",
       "    </tr>\n",
       "    <tr>\n",
       "      <th>SID</th>\n",
       "      <td>0.004605</td>\n",
       "      <td>0.020545</td>\n",
       "      <td>0.009186</td>\n",
       "      <td>0.004394</td>\n",
       "      <td>0.004840</td>\n",
       "      <td>0.004071</td>\n",
       "      <td>0.004407</td>\n",
       "      <td>0.009928</td>\n",
       "      <td>0.006617</td>\n",
       "      <td>0.009183</td>\n",
       "      <td>0.007689</td>\n",
       "      <td>0.005621</td>\n",
       "      <td>0.001970</td>\n",
       "      <td>0.014935</td>\n",
       "      <td>0.018530</td>\n",
       "      <td>0.176365</td>\n",
       "    </tr>\n",
       "  </tbody>\n",
       "</table>\n",
       "</div>"
      ],
      "text/plain": [
       "          GAZ       ADI       ATL       ATW       BOA       BCP       BCI  \\\n",
       "GAZ  0.110857  0.008433 -0.001985 -0.000115  0.003562  0.002449  0.007181   \n",
       "ADI  0.008433  0.310072  0.011676  0.007420  0.002647  0.009193  0.005635   \n",
       "ATL -0.001985  0.011676  0.091365  0.002799  0.004899 -0.000399  0.003406   \n",
       "ATW -0.000115  0.007420  0.002799  0.023597  0.002414  0.008689 -0.002203   \n",
       "BOA  0.003562  0.002647  0.004899  0.002414  0.037479  0.004084 -0.000704   \n",
       "BCP  0.002449  0.009193 -0.000399  0.008689  0.004084  0.029118  0.001752   \n",
       "BCI  0.007181  0.005635  0.003406 -0.002203 -0.000704  0.001752  0.121338   \n",
       "CMA  0.007855  0.001623 -0.000432  0.003171  0.005246  0.010030  0.001837   \n",
       "CSR  0.007811  0.011665  0.005231  0.005165  0.002475  0.009434  0.004329   \n",
       "ADH  0.005978  0.054614  0.008675  0.006949  0.009771  0.010056  0.005524   \n",
       "HPS  0.007873  0.003274  0.003622  0.002145  0.003589  0.003304  0.012620   \n",
       "IAM  0.001191  0.008248  0.002902  0.005209  0.003718  0.005618  0.001743   \n",
       "LBV  0.003223  0.001762  0.003454 -0.001334  0.001650 -0.000159  0.000322   \n",
       "LHM  0.005368  0.010896  0.002243  0.008326  0.006990  0.007715  0.005720   \n",
       "MNG  0.006196  0.016094  0.004069  0.004369  0.002066  0.005758  0.006845   \n",
       "SID  0.004605  0.020545  0.009186  0.004394  0.004840  0.004071  0.004407   \n",
       "\n",
       "          CMA       CSR       ADH       HPS       IAM       LBV       LHM  \\\n",
       "GAZ  0.007855  0.007811  0.005978  0.007873  0.001191  0.003223  0.005368   \n",
       "ADI  0.001623  0.011665  0.054614  0.003274  0.008248  0.001762  0.010896   \n",
       "ATL -0.000432  0.005231  0.008675  0.003622  0.002902  0.003454  0.002243   \n",
       "ATW  0.003171  0.005165  0.006949  0.002145  0.005209 -0.001334  0.008326   \n",
       "BOA  0.005246  0.002475  0.009771  0.003589  0.003718  0.001650  0.006990   \n",
       "BCP  0.010030  0.009434  0.010056  0.003304  0.005618 -0.000159  0.007715   \n",
       "BCI  0.001837  0.004329  0.005524  0.012620  0.001743  0.000322  0.005720   \n",
       "CMA  0.090296  0.009499  0.000455  0.005687  0.004711  0.001979  0.014387   \n",
       "CSR  0.009499  0.078823  0.011572 -0.000076  0.004209  0.003140  0.012341   \n",
       "ADH  0.000455  0.011572  0.120267  0.004817  0.008756  0.006986  0.011872   \n",
       "HPS  0.005687 -0.000076  0.004817  0.092778  0.003181 -0.003100  0.008315   \n",
       "IAM  0.004711  0.004209  0.008756  0.003181  0.016900  0.000800  0.007258   \n",
       "LBV  0.001979  0.003140  0.006986 -0.003100  0.000800  0.086787  0.001430   \n",
       "LHM  0.014387  0.012341  0.011872  0.008315  0.007258  0.001430  0.091699   \n",
       "MNG  0.009534  0.007029  0.007425  0.003015  0.005754 -0.001570  0.007869   \n",
       "SID  0.009928  0.006617  0.009183  0.007689  0.005621  0.001970  0.014935   \n",
       "\n",
       "          MNG       SID  \n",
       "GAZ  0.006196  0.004605  \n",
       "ADI  0.016094  0.020545  \n",
       "ATL  0.004069  0.009186  \n",
       "ATW  0.004369  0.004394  \n",
       "BOA  0.002066  0.004840  \n",
       "BCP  0.005758  0.004071  \n",
       "BCI  0.006845  0.004407  \n",
       "CMA  0.009534  0.009928  \n",
       "CSR  0.007029  0.006617  \n",
       "ADH  0.007425  0.009183  \n",
       "HPS  0.003015  0.007689  \n",
       "IAM  0.005754  0.005621  \n",
       "LBV -0.001570  0.001970  \n",
       "LHM  0.007869  0.014935  \n",
       "MNG  0.176660  0.018530  \n",
       "SID  0.018530  0.176365  "
      ]
     },
     "execution_count": 7,
     "metadata": {},
     "output_type": "execute_result"
    }
   ],
   "source": [
    "cov_matrix = returns.cov() * 252\n",
    "\n",
    "cov_matrix.head(1000)"
   ]
  },
  {
   "cell_type": "code",
   "execution_count": 8,
   "metadata": {},
   "outputs": [],
   "source": [
    "risk_free_rate = 0\n",
    "\n",
    "def standard_deviation(weights, cov_matrix):\n",
    "    variance = weights.T @ cov_matrix @ weights\n",
    "    return np.sqrt(variance)\n",
    "\n",
    "\n",
    "def expected_return(weights, returns):\n",
    "    return np.sum(returns.mean() * weights) * 252\n",
    "\n",
    "def sharpe_ratio(weights, returns, cov_matrix, risk_free_rate):\n",
    "    return (expected_return(weights, returns) - risk_free_rate) / standard_deviation(\n",
    "        weights, cov_matrix\n",
    "    )\n",
    "\n",
    "def print_optimal_weights_results(optimal_weights):\n",
    "    print(\"Optimal Weights:\")\n",
    "    for ticker, weight in zip(stocks_tickers, optimal_weights):\n",
    "        print(f\"{ticker}: {weight:.4f}\")\n",
    "\n",
    "    optimal_portfolio_return = expected_return(optimal_weights, returns)\n",
    "    optimal_portfolio_volatility = standard_deviation(optimal_weights, cov_matrix)\n",
    "    optimal_sharpe_ratio = sharpe_ratio(\n",
    "        optimal_weights, returns, cov_matrix, risk_free_rate\n",
    "    )\n",
    "    print(f\"Expected Annual Return: {optimal_portfolio_return:.4f}\")\n",
    "    print(f\"Expected Volatility: {optimal_portfolio_volatility:.4f}\")\n",
    "    print(f\"Sharpe Ratio: {optimal_sharpe_ratio:.4f}\")"
   ]
  },
  {
   "cell_type": "code",
   "execution_count": 9,
   "metadata": {},
   "outputs": [],
   "source": [
    "def neg_sharpe_ratio(weights, returns, cov_matrix, risk_free_rate):\n",
    "    return -sharpe_ratio(weights, returns, cov_matrix, risk_free_rate)\n",
    "\n",
    "\n",
    "def minimum_variance(weights, returns, cov_matrix, risk_free_rate):\n",
    "    return np.dot(weights.T, np.dot(cov_matrix, weights))\n",
    "\n",
    "\n",
    "def optimize_weights(\n",
    "    objective,\n",
    "    constraints={\"type\": \"eq\", \"fun\": lambda weights: np.sum(weights) - 1},\n",
    "    bounds=[(0, 1) for _ in range(len(stocks_tickers))],\n",
    "):\n",
    "    initial_weights = np.array([1 / len(stocks_tickers)] * len(stocks_tickers))\n",
    "    max_sharpe_optimized_results = minimize(\n",
    "        objective,\n",
    "        initial_weights,\n",
    "        args=(returns, cov_matrix, risk_free_rate),\n",
    "        method=\"SLSQP\",\n",
    "        constraints=constraints,\n",
    "        bounds=bounds,\n",
    "    )\n",
    "    return max_sharpe_optimized_results.x"
   ]
  },
  {
   "cell_type": "markdown",
   "metadata": {},
   "source": [
    "Optimize for Max Sharpe Ratio"
   ]
  },
  {
   "cell_type": "code",
   "execution_count": 10,
   "metadata": {},
   "outputs": [],
   "source": [
    "max_sharpe_optimal_weights = optimize_weights(neg_sharpe_ratio)"
   ]
  },
  {
   "cell_type": "markdown",
   "metadata": {},
   "source": [
    "Optimize for Min Variance"
   ]
  },
  {
   "cell_type": "code",
   "execution_count": 11,
   "metadata": {},
   "outputs": [],
   "source": [
    "minimum_variance_optimal_weights = optimize_weights(minimum_variance)"
   ]
  },
  {
   "cell_type": "code",
   "execution_count": 12,
   "metadata": {},
   "outputs": [
    {
     "name": "stdout",
     "output_type": "stream",
     "text": [
      "Optimal Weights:\n",
      "GAZ: 0.0686\n",
      "ADI: 0.0000\n",
      "ATL: 0.0134\n",
      "ATW: 0.1664\n",
      "BOA: 0.0000\n",
      "BCP: 0.0000\n",
      "BCI: 0.0000\n",
      "CMA: 0.0551\n",
      "CSR: 0.1149\n",
      "ADH: 0.0000\n",
      "HPS: 0.3498\n",
      "IAM: 0.0806\n",
      "LBV: 0.1483\n",
      "LHM: 0.0000\n",
      "MNG: 0.0029\n",
      "SID: 0.0000\n",
      "Expected Annual Return: 0.2590\n",
      "Expected Volatility: 0.1329\n",
      "Sharpe Ratio: 1.9490\n"
     ]
    },
    {
     "data": {
      "image/png": "[encoded data removed]",
      "text/plain": [
       "<Figure size 1000x600 with 1 Axes>"
      ]
     },
     "metadata": {},
     "output_type": "display_data"
    }
   ],
   "source": [
    "plt.figure(figsize=(10, 6))\n",
    "plt.bar(stocks_tickers, max_sharpe_optimal_weights)\n",
    "\n",
    "print_optimal_weights_results(max_sharpe_optimal_weights)\n",
    "\n",
    "plt.xlabel(\"Assets\")\n",
    "plt.ylabel(\"Optimal Weights\")\n",
    "plt.title(\"Optimal Portfolio Weights (Max Sharpe)\")\n",
    "\n",
    "plt.show()"
   ]
  },
  {
   "cell_type": "code",
   "execution_count": 13,
   "metadata": {},
   "outputs": [
    {
     "name": "stdout",
     "output_type": "stream",
     "text": [
      "Optimal Weights:\n",
      "GAZ: 0.0439\n",
      "ADI: 0.0005\n",
      "ATL: 0.0512\n",
      "ATW: 0.1923\n",
      "BOA: 0.1149\n",
      "BCP: 0.0907\n",
      "BCI: 0.0464\n",
      "CMA: 0.0285\n",
      "CSR: 0.0314\n",
      "ADH: 0.0000\n",
      "HPS: 0.0435\n",
      "IAM: 0.2547\n",
      "LBV: 0.0775\n",
      "LHM: 0.0002\n",
      "MNG: 0.0139\n",
      "SID: 0.0104\n",
      "Expected Annual Return: 0.0956\n",
      "Expected Volatility: 0.0848\n",
      "Sharpe Ratio: 1.1274\n"
     ]
    },
    {
     "data": {
      "image/png": "[encoded data removed]",
      "text/plain": [
       "<Figure size 1000x600 with 1 Axes>"
      ]
     },
     "metadata": {},
     "output_type": "display_data"
    }
   ],
   "source": [
    "plt.figure(figsize=(10, 6))\n",
    "plt.bar(stocks_tickers, minimum_variance_optimal_weights)\n",
    "\n",
    "print_optimal_weights_results(minimum_variance_optimal_weights)\n",
    "\n",
    "plt.xlabel('Assets')\n",
    "plt.ylabel('Optimal Weights')\n",
    "plt.title('Optimal Portfolio Weights (Min Variance)')\n",
    "\n",
    "plt.show()"
   ]
  },
  {
   "cell_type": "code",
   "execution_count": 14,
   "metadata": {},
   "outputs": [
    {
     "data": {
      "application/vnd.plotly.v1+json": {
       "config": {
        "plotlyServerURL": "https://plot.ly"
       },
       "data": [
        {
         "hovertemplate": "Risk=%{x}<br>Return=%{marker.color}<extra></extra>",
         "legendgroup": "",
         "marker": {
          "color": [
           0.09789367932739503,
           0.11131391629871037,
           0.11775729792396515,
           0.12260377248501789,
           0.12665408599511616,
           0.13021273832291202,
           0.13342927968644083,
           0.13639057746631966,
           0.13915211655299417,
           0.1417521582459243,
           0.14421804366054916,
           0.14657049845297637,
           0.14882519979971698,
           0.15099483107920214,
           0.1530895323154985,
           0.15511746667475224,
           0.15708567202764517,
           0.15899989278622353,
           0.16086513503646283,
           0.1626856052497385,
           0.16446498776103288,
           0.16620657978882258,
           0.16791319223687287,
           0.16958734975836198,
           0.17123125582036647,
           0.17284705214554713,
           0.17443619144975506,
           0.17600065698851744,
           0.1775418217931858,
           0.1790608854278442,
           0.18055923145389483,
           0.1820378386730376,
           0.1834978687891588,
           0.184940158188029,
           0.18636571620713885,
           0.18777508265475126,
           0.18916931576619414,
           0.19054894648903645,
           0.1919145618213166,
           0.19326734821910296,
           0.1946068873508011,
           0.19593367301284983,
           0.19724909737793783,
           0.1985518656856476,
           0.19984088759592367,
           0.20111610979228153,
           0.20237932382364074,
           0.20363092921809572,
           0.20487089037649525,
           0.20609996370650388,
           0.20731854514155507,
           0.20852699444616085,
           0.20972567838402442,
           0.21091512939483165,
           0.21209527747239737,
           0.21326831550175898,
           0.2144300182984173,
           0.21558564353177068,
           0.21673173072454302,
           0.21787112497833777,
           0.21900347711398202,
           0.22012815643157885,
           0.22124606392855783,
           0.22235717788035964,
           0.2234621499484145,
           0.2245602982786177,
           0.22565259748310765,
           0.226739009844316,
           0.22781946285408733,
           0.22889434293988364,
           0.22996378327403513,
           0.2310280176043581,
           0.23208679191996576,
           0.23314059848155486,
           0.23418952734561665,
           0.23523399636722783,
           0.2362737425411366,
           0.23730806155038395,
           0.2383384324090575,
           0.23936440526123912,
           0.2403857706940151,
           0.24140231965858328,
           0.24241474254700313,
           0.24342266739117377,
           0.24442674882080265,
           0.24542734734871516,
           0.24642264497292707,
           0.24741584571047695,
           0.24840445468126027,
           0.24938770435811733,
           0.2503675787646831,
           0.25134394058053117,
           0.25231697987084406,
           0.2532859099440491,
           0.25425229351634115,
           0.2552140080631355,
           0.25617210809464586,
           0.2571278104956719,
           0.25807956080006084,
           0.2590281732787947,
           0.09268953605690222,
           0.07388116102090177,
           0.06473411134132531,
           0.058105775352084416,
           0.05314846677190726,
           0.04899979755923913,
           0.04534734387098193,
           0.04204835912582602,
           0.03902943800662701,
           0.036224730508568566,
           0.03359002006516095,
           0.031094275082681932,
           0.028714628097662995,
           0.026433810338552313,
           0.024238322785751807,
           0.022117375425496945,
           0.02006327444307538,
           0.018070770568095067,
           0.016133451312694325,
           0.01424578293146489,
           0.012404020128964055,
           0.010609244872259534,
           0.008857772738830353,
           0.007145700862257658,
           0.005469615539663108,
           0.003826546850866319,
           0.0022139490336368912,
           0.0006314551155456563,
           -0.0009166142954886161,
           -0.002432527512777929,
           -0.003918868833345362,
           -0.0053779176299533086,
           -0.006811614444311316,
           -0.008221818568225072,
           -0.009610162834534596,
           -0.010977968527901371,
           -0.012326610111353636,
           -0.01365722800548198,
           -0.014970921007340534,
           -0.016268639161636376,
           -0.01755123022663917,
           -0.01881961557975058,
           -0.020074381576683294,
           -0.021316340348077906,
           -0.022546161209944134,
           -0.023764293880557428,
           -0.02497131651834201,
           -0.0261678297745204,
           -0.027354288609740974,
           -0.028531059312414467,
           -0.02969859800669302,
           -0.030857319605585885,
           -0.032007565446995796,
           -0.03314964154472998,
           -0.034283966161520435,
           -0.035410680214827135,
           -0.03653020618795239,
           -0.03764278107652127,
           -0.038748631263575806,
           -0.03984801882520905,
           -0.04094120979553235,
           -0.042028350089100344,
           -0.04310967615444404,
           -0.04418533758385868,
           -0.04525558386054619,
           -0.04632084386632057,
           -0.04738055592830663,
           -0.048435489066466206,
           -0.0494855589025899,
           -0.05053088965043144,
           -0.05157170865761396,
           -0.05260811361303841,
           -0.053640227813285646,
           -0.05466815049872833,
           -0.055692065023202425,
           -0.05671211961017474,
           -0.05772825021466023,
           -0.058740668004697356,
           -0.059749397788349735,
           -0.06075479456304702,
           -0.061756642369332856,
           -0.06275515319354298,
           -0.06375040787025418,
           -0.06474250406447937,
           -0.06573151885247597,
           -0.06671752897481525,
           -0.06770057737108724,
           -0.06868031586921383,
           -0.06965670069060619,
           -0.0706297868298609,
           -0.07159967961801383,
           -0.07256645894708223,
           -0.07353020129704982,
           -0.07449098771735425,
           -0.07544887809471212,
           -0.07640394532216287,
           -0.07735619111205576,
           -0.07830580078715661,
           -0.07925278012114098,
           -0.08019724629549886,
           0.1499336953368877
          ],
          "coloraxis": "coloraxis",
          "opacity": 0.8,
          "size": 8,
          "symbol": "circle"
         },
         "mode": "markers",
         "name": "",
         "orientation": "v",
         "showlegend": false,
         "type": "scatter",
         "x": [
          0.08478486497918422,
          0.08527090395032544,
          0.08575694292146666,
          0.08624298189260787,
          0.08672902086374909,
          0.08721505983489031,
          0.08770109880603151,
          0.08818713777717273,
          0.08867317674831394,
          0.08915921571945516,
          0.08964525469059638,
          0.0901312936617376,
          0.09061733263287881,
          0.09110337160402003,
          0.09158941057516125,
          0.09207544954630245,
          0.09256148851744367,
          0.09304752748858489,
          0.0935335664597261,
          0.09401960543086732,
          0.09450564440200854,
          0.09499168337314975,
          0.09547772234429097,
          0.09596376131543219,
          0.0964498002865734,
          0.09693583925771462,
          0.09742187822885583,
          0.09790791719999704,
          0.09839395617113826,
          0.09887999514227948,
          0.0993660341134207,
          0.09985207308456191,
          0.10033811205570313,
          0.10082415102684435,
          0.10131018999798555,
          0.10179622896912677,
          0.10228226794026798,
          0.1027683069114092,
          0.10325434588255042,
          0.10374038485369164,
          0.10422642382483285,
          0.10471246279597407,
          0.10519850176711529,
          0.1056845407382565,
          0.10617057970939772,
          0.10665661868053894,
          0.10714265765168014,
          0.10762869662282136,
          0.10811473559396258,
          0.1086007745651038,
          0.10908681353624501,
          0.10957285250738623,
          0.11005889147852745,
          0.11054493044966865,
          0.11103096942080987,
          0.11151700839195108,
          0.1120030473630923,
          0.11248908633423352,
          0.11297512530537474,
          0.11346116427651595,
          0.11394720324765717,
          0.11443324221879839,
          0.1149192811899396,
          0.11540532016108082,
          0.11589135913222204,
          0.11637739810336326,
          0.11686343707450447,
          0.11734947604564568,
          0.1178355150167869,
          0.11832155398792811,
          0.11880759295906933,
          0.11929363193021054,
          0.11977967090135175,
          0.12026570987249297,
          0.12075174884363418,
          0.1212377878147754,
          0.12172382678591662,
          0.12220986575705783,
          0.12269590472819905,
          0.12318194369934027,
          0.12366798267048149,
          0.1241540216416227,
          0.12464006061276392,
          0.12512609958390514,
          0.12561213855504635,
          0.12609817752618757,
          0.1265842164973288,
          0.12707025546847,
          0.1275562944396112,
          0.12804233341075244,
          0.12852837238189363,
          0.12901441135303487,
          0.12950045032417606,
          0.12998648929531728,
          0.1304725282664585,
          0.13095856723759972,
          0.13144460620874093,
          0.13193064517988215,
          0.13241668415102337,
          0.13290272312216458,
          0.08478486497918422,
          0.08560651688750262,
          0.08642816879582102,
          0.08724982070413942,
          0.08807147261245782,
          0.08889312452077622,
          0.08971477642909462,
          0.09053642833741302,
          0.09135808024573142,
          0.09217973215404981,
          0.09300138406236821,
          0.09382303597068661,
          0.09464468787900501,
          0.09546633978732341,
          0.09628799169564181,
          0.09710964360396021,
          0.09793129551227861,
          0.09875294742059701,
          0.09957459932891541,
          0.10039625123723381,
          0.10121790314555221,
          0.1020395550538706,
          0.102861206962189,
          0.1036828588705074,
          0.1045045107788258,
          0.1053261626871442,
          0.1061478145954626,
          0.10696946650378099,
          0.10779111841209939,
          0.10861277032041779,
          0.10943442222873619,
          0.11025607413705459,
          0.11107772604537298,
          0.11189937795369138,
          0.11272102986200978,
          0.11354268177032818,
          0.11436433367864658,
          0.11518598558696498,
          0.11600763749528338,
          0.11682928940360178,
          0.11765094131192018,
          0.11847259322023858,
          0.11929424512855698,
          0.12011589703687538,
          0.12093754894519378,
          0.12175920085351218,
          0.12258085276183057,
          0.12340250467014897,
          0.12422415657846737,
          0.12504580848678576,
          0.12586746039510416,
          0.12668911230342256,
          0.12751076421174096,
          0.12833241612005936,
          0.12915406802837776,
          0.12997571993669615,
          0.13079737184501455,
          0.13161902375333295,
          0.13244067566165135,
          0.13326232756996975,
          0.13408397947828815,
          0.13490563138660655,
          0.13572728329492495,
          0.13654893520324335,
          0.13737058711156175,
          0.13819223901988015,
          0.13901389092819855,
          0.13983554283651695,
          0.14065719474483535,
          0.14147884665315374,
          0.14230049856147214,
          0.14312215046979054,
          0.14394380237810894,
          0.14476545428642734,
          0.14558710619474574,
          0.14640875810306414,
          0.14723041001138254,
          0.14805206191970094,
          0.14887371382801934,
          0.14969536573633774,
          0.15051701764465614,
          0.15133866955297454,
          0.15216032146129294,
          0.15298197336961133,
          0.15380362527792973,
          0.15462527718624813,
          0.15544692909456653,
          0.15626858100288493,
          0.15709023291120333,
          0.15791188481952173,
          0.15873353672784013,
          0.15955518863615853,
          0.16037684054447693,
          0.16119849245279533,
          0.16202014436111373,
          0.16284179626943213,
          0.16366344817775053,
          0.16448510008606892,
          0.16530675199438732,
          0.16612840390270572,
          0.09454294107212712
         ],
         "xaxis": "x",
         "y": [
          0.09789367932739503,
          0.11131391629871037,
          0.11775729792396515,
          0.12260377248501789,
          0.12665408599511616,
          0.13021273832291202,
          0.13342927968644083,
          0.13639057746631966,
          0.13915211655299417,
          0.1417521582459243,
          0.14421804366054916,
          0.14657049845297637,
          0.14882519979971698,
          0.15099483107920214,
          0.1530895323154985,
          0.15511746667475224,
          0.15708567202764517,
          0.15899989278622353,
          0.16086513503646283,
          0.1626856052497385,
          0.16446498776103288,
          0.16620657978882258,
          0.16791319223687287,
          0.16958734975836198,
          0.17123125582036647,
          0.17284705214554713,
          0.17443619144975506,
          0.17600065698851744,
          0.1775418217931858,
          0.1790608854278442,
          0.18055923145389483,
          0.1820378386730376,
          0.1834978687891588,
          0.184940158188029,
          0.18636571620713885,
          0.18777508265475126,
          0.18916931576619414,
          0.19054894648903645,
          0.1919145618213166,
          0.19326734821910296,
          0.1946068873508011,
          0.19593367301284983,
          0.19724909737793783,
          0.1985518656856476,
          0.19984088759592367,
          0.20111610979228153,
          0.20237932382364074,
          0.20363092921809572,
          0.20487089037649525,
          0.20609996370650388,
          0.20731854514155507,
          0.20852699444616085,
          0.20972567838402442,
          0.21091512939483165,
          0.21209527747239737,
          0.21326831550175898,
          0.2144300182984173,
          0.21558564353177068,
          0.21673173072454302,
          0.21787112497833777,
          0.21900347711398202,
          0.22012815643157885,
          0.22124606392855783,
          0.22235717788035964,
          0.2234621499484145,
          0.2245602982786177,
          0.22565259748310765,
          0.226739009844316,
          0.22781946285408733,
          0.22889434293988364,
          0.22996378327403513,
          0.2310280176043581,
          0.23208679191996576,
          0.23314059848155486,
          0.23418952734561665,
          0.23523399636722783,
          0.2362737425411366,
          0.23730806155038395,
          0.2383384324090575,
          0.23936440526123912,
          0.2403857706940151,
          0.24140231965858328,
          0.24241474254700313,
          0.24342266739117377,
          0.24442674882080265,
          0.24542734734871516,
          0.24642264497292707,
          0.24741584571047695,
          0.24840445468126027,
          0.24938770435811733,
          0.2503675787646831,
          0.25134394058053117,
          0.25231697987084406,
          0.2532859099440491,
          0.25425229351634115,
          0.2552140080631355,
          0.25617210809464586,
          0.2571278104956719,
          0.25807956080006084,
          0.2590281732787947,
          0.09268953605690222,
          0.07388116102090177,
          0.06473411134132531,
          0.058105775352084416,
          0.05314846677190726,
          0.04899979755923913,
          0.04534734387098193,
          0.04204835912582602,
          0.03902943800662701,
          0.036224730508568566,
          0.03359002006516095,
          0.031094275082681932,
          0.028714628097662995,
          0.026433810338552313,
          0.024238322785751807,
          0.022117375425496945,
          0.02006327444307538,
          0.018070770568095067,
          0.016133451312694325,
          0.01424578293146489,
          0.012404020128964055,
          0.010609244872259534,
          0.008857772738830353,
          0.007145700862257658,
          0.005469615539663108,
          0.003826546850866319,
          0.0022139490336368912,
          0.0006314551155456563,
          -0.0009166142954886161,
          -0.002432527512777929,
          -0.003918868833345362,
          -0.0053779176299533086,
          -0.006811614444311316,
          -0.008221818568225072,
          -0.009610162834534596,
          -0.010977968527901371,
          -0.012326610111353636,
          -0.01365722800548198,
          -0.014970921007340534,
          -0.016268639161636376,
          -0.01755123022663917,
          -0.01881961557975058,
          -0.020074381576683294,
          -0.021316340348077906,
          -0.022546161209944134,
          -0.023764293880557428,
          -0.02497131651834201,
          -0.0261678297745204,
          -0.027354288609740974,
          -0.028531059312414467,
          -0.02969859800669302,
          -0.030857319605585885,
          -0.032007565446995796,
          -0.03314964154472998,
          -0.034283966161520435,
          -0.035410680214827135,
          -0.03653020618795239,
          -0.03764278107652127,
          -0.038748631263575806,
          -0.03984801882520905,
          -0.04094120979553235,
          -0.042028350089100344,
          -0.04310967615444404,
          -0.04418533758385868,
          -0.04525558386054619,
          -0.04632084386632057,
          -0.04738055592830663,
          -0.048435489066466206,
          -0.0494855589025899,
          -0.05053088965043144,
          -0.05157170865761396,
          -0.05260811361303841,
          -0.053640227813285646,
          -0.05466815049872833,
          -0.055692065023202425,
          -0.05671211961017474,
          -0.05772825021466023,
          -0.058740668004697356,
          -0.059749397788349735,
          -0.06075479456304702,
          -0.061756642369332856,
          -0.06275515319354298,
          -0.06375040787025418,
          -0.06474250406447937,
          -0.06573151885247597,
          -0.06671752897481525,
          -0.06770057737108724,
          -0.06868031586921383,
          -0.06965670069060619,
          -0.0706297868298609,
          -0.07159967961801383,
          -0.07256645894708223,
          -0.07353020129704982,
          -0.07449098771735425,
          -0.07544887809471212,
          -0.07640394532216287,
          -0.07735619111205576,
          -0.07830580078715661,
          -0.07925278012114098,
          -0.08019724629549886,
          0.1499336953368877
         ],
         "yaxis": "y"
        }
       ],
       "layout": {
        "coloraxis": {
         "colorbar": {
          "title": {
           "text": "Return"
          }
         },
         "colorscale": [
          [
           0,
           "#0d0887"
          ],
          [
           0.1111111111111111,
           "#46039f"
          ],
          [
           0.2222222222222222,
           "#7201a8"
          ],
          [
           0.3333333333333333,
           "#9c179e"
          ],
          [
           0.4444444444444444,
           "#bd3786"
          ],
          [
           0.5555555555555556,
           "#d8576b"
          ],
          [
           0.6666666666666666,
           "#ed7953"
          ],
          [
           0.7777777777777778,
           "#fb9f3a"
          ],
          [
           0.8888888888888888,
           "#fdca26"
          ],
          [
           1,
           "#f0f921"
          ]
         ]
        },
        "hoverlabel": {
         "bgcolor": "white",
         "font": {
          "family": "Rockwell",
          "size": 12
         }
        },
        "hovermode": "closest",
        "legend": {
         "tracegroupgap": 0
        },
        "margin": {
         "t": 60
        },
        "template": {
         "data": {
          "bar": [
           {
            "error_x": {
             "color": "#2a3f5f"
            },
            "error_y": {
             "color": "#2a3f5f"
            },
            "marker": {
             "line": {
              "color": "#E5ECF6",
              "width": 0.5
             },
             "pattern": {
              "fillmode": "overlay",
              "size": 10,
              "solidity": 0.2
             }
            },
            "type": "bar"
           }
          ],
          "barpolar": [
           {
            "marker": {
             "line": {
              "color": "#E5ECF6",
              "width": 0.5
             },
             "pattern": {
              "fillmode": "overlay",
              "size": 10,
              "solidity": 0.2
             }
            },
            "type": "barpolar"
           }
          ],
          "carpet": [
           {
            "aaxis": {
             "endlinecolor": "#2a3f5f",
             "gridcolor": "white",
             "linecolor": "white",
             "minorgridcolor": "white",
             "startlinecolor": "#2a3f5f"
            },
            "baxis": {
             "endlinecolor": "#2a3f5f",
             "gridcolor": "white",
             "linecolor": "white",
             "minorgridcolor": "white",
             "startlinecolor": "#2a3f5f"
            },
            "type": "carpet"
           }
          ],
          "choropleth": [
           {
            "colorbar": {
             "outlinewidth": 0,
             "ticks": ""
            },
            "type": "choropleth"
           }
          ],
          "contour": [
           {
            "colorbar": {
             "outlinewidth": 0,
             "ticks": ""
            },
            "colorscale": [
             [
              0,
              "#0d0887"
             ],
             [
              0.1111111111111111,
              "#46039f"
             ],
             [
              0.2222222222222222,
              "#7201a8"
             ],
             [
              0.3333333333333333,
              "#9c179e"
             ],
             [
              0.4444444444444444,
              "#bd3786"
             ],
             [
              0.5555555555555556,
              "#d8576b"
             ],
             [
              0.6666666666666666,
              "#ed7953"
             ],
             [
              0.7777777777777778,
              "#fb9f3a"
             ],
             [
              0.8888888888888888,
              "#fdca26"
             ],
             [
              1,
              "#f0f921"
             ]
            ],
            "type": "contour"
           }
          ],
          "contourcarpet": [
           {
            "colorbar": {
             "outlinewidth": 0,
             "ticks": ""
            },
            "type": "contourcarpet"
           }
          ],
          "heatmap": [
           {
            "colorbar": {
             "outlinewidth": 0,
             "ticks": ""
            },
            "colorscale": [
             [
              0,
              "#0d0887"
             ],
             [
              0.1111111111111111,
              "#46039f"
             ],
             [
              0.2222222222222222,
              "#7201a8"
             ],
             [
              0.3333333333333333,
              "#9c179e"
             ],
             [
              0.4444444444444444,
              "#bd3786"
             ],
             [
              0.5555555555555556,
              "#d8576b"
             ],
             [
              0.6666666666666666,
              "#ed7953"
             ],
             [
              0.7777777777777778,
              "#fb9f3a"
             ],
             [
              0.8888888888888888,
              "#fdca26"
             ],
             [
              1,
              "#f0f921"
             ]
            ],
            "type": "heatmap"
           }
          ],
          "heatmapgl": [
           {
            "colorbar": {
             "outlinewidth": 0,
             "ticks": ""
            },
            "colorscale": [
             [
              0,
              "#0d0887"
             ],
             [
              0.1111111111111111,
              "#46039f"
             ],
             [
              0.2222222222222222,
              "#7201a8"
             ],
             [
              0.3333333333333333,
              "#9c179e"
             ],
             [
              0.4444444444444444,
              "#bd3786"
             ],
             [
              0.5555555555555556,
              "#d8576b"
             ],
             [
              0.6666666666666666,
              "#ed7953"
             ],
             [
              0.7777777777777778,
              "#fb9f3a"
             ],
             [
              0.8888888888888888,
              "#fdca26"
             ],
             [
              1,
              "#f0f921"
             ]
            ],
            "type": "heatmapgl"
           }
          ],
          "histogram": [
           {
            "marker": {
             "pattern": {
              "fillmode": "overlay",
              "size": 10,
              "solidity": 0.2
             }
            },
            "type": "histogram"
           }
          ],
          "histogram2d": [
           {
            "colorbar": {
             "outlinewidth": 0,
             "ticks": ""
            },
            "colorscale": [
             [
              0,
              "#0d0887"
             ],
             [
              0.1111111111111111,
              "#46039f"
             ],
             [
              0.2222222222222222,
              "#7201a8"
             ],
             [
              0.3333333333333333,
              "#9c179e"
             ],
             [
              0.4444444444444444,
              "#bd3786"
             ],
             [
              0.5555555555555556,
              "#d8576b"
             ],
             [
              0.6666666666666666,
              "#ed7953"
             ],
             [
              0.7777777777777778,
              "#fb9f3a"
             ],
             [
              0.8888888888888888,
              "#fdca26"
             ],
             [
              1,
              "#f0f921"
             ]
            ],
            "type": "histogram2d"
           }
          ],
          "histogram2dcontour": [
           {
            "colorbar": {
             "outlinewidth": 0,
             "ticks": ""
            },
            "colorscale": [
             [
              0,
              "#0d0887"
             ],
             [
              0.1111111111111111,
              "#46039f"
             ],
             [
              0.2222222222222222,
              "#7201a8"
             ],
             [
              0.3333333333333333,
              "#9c179e"
             ],
             [
              0.4444444444444444,
              "#bd3786"
             ],
             [
              0.5555555555555556,
              "#d8576b"
             ],
             [
              0.6666666666666666,
              "#ed7953"
             ],
             [
              0.7777777777777778,
              "#fb9f3a"
             ],
             [
              0.8888888888888888,
              "#fdca26"
             ],
             [
              1,
              "#f0f921"
             ]
            ],
            "type": "histogram2dcontour"
           }
          ],
          "mesh3d": [
           {
            "colorbar": {
             "outlinewidth": 0,
             "ticks": ""
            },
            "type": "mesh3d"
           }
          ],
          "parcoords": [
           {
            "line": {
             "colorbar": {
              "outlinewidth": 0,
              "ticks": ""
             }
            },
            "type": "parcoords"
           }
          ],
          "pie": [
           {
            "automargin": true,
            "type": "pie"
           }
          ],
          "scatter": [
           {
            "fillpattern": {
             "fillmode": "overlay",
             "size": 10,
             "solidity": 0.2
            },
            "type": "scatter"
           }
          ],
          "scatter3d": [
           {
            "line": {
             "colorbar": {
              "outlinewidth": 0,
              "ticks": ""
             }
            },
            "marker": {
             "colorbar": {
              "outlinewidth": 0,
              "ticks": ""
             }
            },
            "type": "scatter3d"
           }
          ],
          "scattercarpet": [
           {
            "marker": {
             "colorbar": {
              "outlinewidth": 0,
              "ticks": ""
             }
            },
            "type": "scattercarpet"
           }
          ],
          "scattergeo": [
           {
            "marker": {
             "colorbar": {
              "outlinewidth": 0,
              "ticks": ""
             }
            },
            "type": "scattergeo"
           }
          ],
          "scattergl": [
           {
            "marker": {
             "colorbar": {
              "outlinewidth": 0,
              "ticks": ""
             }
            },
            "type": "scattergl"
           }
          ],
          "scattermapbox": [
           {
            "marker": {
             "colorbar": {
              "outlinewidth": 0,
              "ticks": ""
             }
            },
            "type": "scattermapbox"
           }
          ],
          "scatterpolar": [
           {
            "marker": {
             "colorbar": {
              "outlinewidth": 0,
              "ticks": ""
             }
            },
            "type": "scatterpolar"
           }
          ],
          "scatterpolargl": [
           {
            "marker": {
             "colorbar": {
              "outlinewidth": 0,
              "ticks": ""
             }
            },
            "type": "scatterpolargl"
           }
          ],
          "scatterternary": [
           {
            "marker": {
             "colorbar": {
              "outlinewidth": 0,
              "ticks": ""
             }
            },
            "type": "scatterternary"
           }
          ],
          "surface": [
           {
            "colorbar": {
             "outlinewidth": 0,
             "ticks": ""
            },
            "colorscale": [
             [
              0,
              "#0d0887"
             ],
             [
              0.1111111111111111,
              "#46039f"
             ],
             [
              0.2222222222222222,
              "#7201a8"
             ],
             [
              0.3333333333333333,
              "#9c179e"
             ],
             [
              0.4444444444444444,
              "#bd3786"
             ],
             [
              0.5555555555555556,
              "#d8576b"
             ],
             [
              0.6666666666666666,
              "#ed7953"
             ],
             [
              0.7777777777777778,
              "#fb9f3a"
             ],
             [
              0.8888888888888888,
              "#fdca26"
             ],
             [
              1,
              "#f0f921"
             ]
            ],
            "type": "surface"
           }
          ],
          "table": [
           {
            "cells": {
             "fill": {
              "color": "#EBF0F8"
             },
             "line": {
              "color": "white"
             }
            },
            "header": {
             "fill": {
              "color": "#C8D4E3"
             },
             "line": {
              "color": "white"
             }
            },
            "type": "table"
           }
          ]
         },
         "layout": {
          "annotationdefaults": {
           "arrowcolor": "#2a3f5f",
           "arrowhead": 0,
           "arrowwidth": 1
          },
          "autotypenumbers": "strict",
          "coloraxis": {
           "colorbar": {
            "outlinewidth": 0,
            "ticks": ""
           }
          },
          "colorscale": {
           "diverging": [
            [
             0,
             "#8e0152"
            ],
            [
             0.1,
             "#c51b7d"
            ],
            [
             0.2,
             "#de77ae"
            ],
            [
             0.3,
             "#f1b6da"
            ],
            [
             0.4,
             "#fde0ef"
            ],
            [
             0.5,
             "#f7f7f7"
            ],
            [
             0.6,
             "#e6f5d0"
            ],
            [
             0.7,
             "#b8e186"
            ],
            [
             0.8,
             "#7fbc41"
            ],
            [
             0.9,
             "#4d9221"
            ],
            [
             1,
             "#276419"
            ]
           ],
           "sequential": [
            [
             0,
             "#0d0887"
            ],
            [
             0.1111111111111111,
             "#46039f"
            ],
            [
             0.2222222222222222,
             "#7201a8"
            ],
            [
             0.3333333333333333,
             "#9c179e"
            ],
            [
             0.4444444444444444,
             "#bd3786"
            ],
            [
             0.5555555555555556,
             "#d8576b"
            ],
            [
             0.6666666666666666,
             "#ed7953"
            ],
            [
             0.7777777777777778,
             "#fb9f3a"
            ],
            [
             0.8888888888888888,
             "#fdca26"
            ],
            [
             1,
             "#f0f921"
            ]
           ],
           "sequentialminus": [
            [
             0,
             "#0d0887"
            ],
            [
             0.1111111111111111,
             "#46039f"
            ],
            [
             0.2222222222222222,
             "#7201a8"
            ],
            [
             0.3333333333333333,
             "#9c179e"
            ],
            [
             0.4444444444444444,
             "#bd3786"
            ],
            [
             0.5555555555555556,
             "#d8576b"
            ],
            [
             0.6666666666666666,
             "#ed7953"
            ],
            [
             0.7777777777777778,
             "#fb9f3a"
            ],
            [
             0.8888888888888888,
             "#fdca26"
            ],
            [
             1,
             "#f0f921"
            ]
           ]
          },
          "colorway": [
           "#636efa",
           "#EF553B",
           "#00cc96",
           "#ab63fa",
           "#FFA15A",
           "#19d3f3",
           "#FF6692",
           "#B6E880",
           "#FF97FF",
           "#FECB52"
          ],
          "font": {
           "color": "#2a3f5f"
          },
          "geo": {
           "bgcolor": "white",
           "lakecolor": "white",
           "landcolor": "#E5ECF6",
           "showlakes": true,
           "showland": true,
           "subunitcolor": "white"
          },
          "hoverlabel": {
           "align": "left"
          },
          "hovermode": "closest",
          "mapbox": {
           "style": "light"
          },
          "paper_bgcolor": "white",
          "plot_bgcolor": "#E5ECF6",
          "polar": {
           "angularaxis": {
            "gridcolor": "white",
            "linecolor": "white",
            "ticks": ""
           },
           "bgcolor": "#E5ECF6",
           "radialaxis": {
            "gridcolor": "white",
            "linecolor": "white",
            "ticks": ""
           }
          },
          "scene": {
           "xaxis": {
            "backgroundcolor": "#E5ECF6",
            "gridcolor": "white",
            "gridwidth": 2,
            "linecolor": "white",
            "showbackground": true,
            "ticks": "",
            "zerolinecolor": "white"
           },
           "yaxis": {
            "backgroundcolor": "#E5ECF6",
            "gridcolor": "white",
            "gridwidth": 2,
            "linecolor": "white",
            "showbackground": true,
            "ticks": "",
            "zerolinecolor": "white"
           },
           "zaxis": {
            "backgroundcolor": "#E5ECF6",
            "gridcolor": "white",
            "gridwidth": 2,
            "linecolor": "white",
            "showbackground": true,
            "ticks": "",
            "zerolinecolor": "white"
           }
          },
          "shapedefaults": {
           "line": {
            "color": "#2a3f5f"
           }
          },
          "ternary": {
           "aaxis": {
            "gridcolor": "white",
            "linecolor": "white",
            "ticks": ""
           },
           "baxis": {
            "gridcolor": "white",
            "linecolor": "white",
            "ticks": ""
           },
           "bgcolor": "#E5ECF6",
           "caxis": {
            "gridcolor": "white",
            "linecolor": "white",
            "ticks": ""
           }
          },
          "title": {
           "x": 0.05
          },
          "xaxis": {
           "automargin": true,
           "gridcolor": "white",
           "linecolor": "white",
           "ticks": "",
           "title": {
            "standoff": 15
           },
           "zerolinecolor": "white",
           "zerolinewidth": 2
          },
          "yaxis": {
           "automargin": true,
           "gridcolor": "white",
           "linecolor": "white",
           "ticks": "",
           "title": {
            "standoff": 15
           },
           "zerolinecolor": "white",
           "zerolinewidth": 2
          }
         }
        },
        "title": {
         "text": "Efficient Frontier"
        },
        "xaxis": {
         "anchor": "y",
         "domain": [
          0,
          1
         ],
         "title": {
          "text": "Standard Deviation of Portfolio (Risk)"
         }
        },
        "yaxis": {
         "anchor": "x",
         "domain": [
          0,
          1
         ],
         "title": {
          "text": "Expected Portfolio Return"
         }
        }
       }
      }
     },
     "metadata": {},
     "output_type": "display_data"
    }
   ],
   "source": [
    "expected_returns = returns.mean()\n",
    "\n",
    "min_variance_risk = standard_deviation(minimum_variance_optimal_weights, cov_matrix)\n",
    "max_sharpe_ratio_risk = standard_deviation(max_sharpe_optimal_weights, cov_matrix)\n",
    "\n",
    "frontier_risks = np.linspace(min_variance_risk, max_sharpe_ratio_risk, 100).tolist()\n",
    "frontier_returns = []\n",
    "\n",
    "for r in frontier_risks:\n",
    "    cons = (\n",
    "        {\"type\": \"eq\", \"fun\": lambda weights: np.sum(weights) - 1},\n",
    "        {\"type\": \"eq\", \"fun\": lambda w: standard_deviation(w, cov_matrix) - r},\n",
    "    )\n",
    "\n",
    "    optimal_weights = optimize_weights(neg_sharpe_ratio, cons)\n",
    "\n",
    "    re = expected_return(optimal_weights, returns)\n",
    "\n",
    "    frontier_returns.append(re)\n",
    "\n",
    "\n",
    "for r in np.linspace(min_variance_risk, max_sharpe_ratio_risk * 1.25, 100):\n",
    "    cons = (\n",
    "        {\"type\": \"eq\", \"fun\": lambda weights: np.sum(weights) - 1},\n",
    "        {\"type\": \"eq\", \"fun\": lambda w: standard_deviation(w, cov_matrix) - r},\n",
    "    )\n",
    "\n",
    "    optimal_weights = optimize_weights(sharpe_ratio, cons)\n",
    "\n",
    "    re = expected_return(optimal_weights, returns)\n",
    "    frontier_returns.append(re)\n",
    "    frontier_risks.append(r)\n",
    "\n",
    "\n",
    "bounds = [(0, 0.1) for _ in range(len(stocks_tickers))]\n",
    "\n",
    "bounds[3] = (0, 0.2) # ATW\n",
    "bounds[11] = (0, 0.2) # IAM\n",
    "\n",
    "\n",
    "regulation_compliant_max_sharpe_optimal_weights = optimize_weights(\n",
    "    objective=neg_sharpe_ratio,\n",
    "    bounds=bounds,\n",
    ")\n",
    "\n",
    "regulation_compliant_max_sharpe_optimal_return = expected_return(\n",
    "    regulation_compliant_max_sharpe_optimal_weights, returns\n",
    ")\n",
    "\n",
    "regulation_compliant_max_sharpe_optimal_risk = standard_deviation(\n",
    "    regulation_compliant_max_sharpe_optimal_weights, cov_matrix\n",
    ")\n",
    "\n",
    "frontier_returns.append(regulation_compliant_max_sharpe_optimal_return)\n",
    "frontier_risks.append(regulation_compliant_max_sharpe_optimal_risk)\n",
    "\n",
    "# Create DataFrame for efficient frontier data\n",
    "efficient_frontier_df = pd.DataFrame(\n",
    "    {\n",
    "        \"Return\": frontier_returns,\n",
    "        \"Risk\": frontier_risks,\n",
    "    }\n",
    ")\n",
    "\n",
    "fig = px.scatter(\n",
    "    efficient_frontier_df,\n",
    "    x=\"Risk\",\n",
    "    y=\"Return\",\n",
    "    color=\"Return\",\n",
    "    color_continuous_scale=px.colors.sequential.Plasma,  # You can use other color scales\n",
    ")\n",
    "fig.update_traces(marker=dict(size=8, opacity=0.8))\n",
    "fig.update_layout(\n",
    "    title=\"Efficient Frontier\",\n",
    "    xaxis_title=\"Standard Deviation of Portfolio (Risk)\",\n",
    "    yaxis_title=\"Expected Portfolio Return\",\n",
    "    hoverlabel=dict(bgcolor=\"white\", font_size=12, font_family=\"Rockwell\"),\n",
    "    hovermode=\"closest\",\n",
    ")\n",
    "fig.show()"
   ]
  },
  {
   "cell_type": "code",
   "execution_count": 15,
   "metadata": {},
   "outputs": [
    {
     "name": "stdout",
     "output_type": "stream",
     "text": [
      "Optimal Weights:\n",
      "GAZ: 0.0929\n",
      "ADI: 0.0000\n",
      "ATL: 0.0430\n",
      "ATW: 0.2000\n",
      "BOA: 0.0000\n",
      "BCP: 0.0478\n",
      "BCI: 0.0293\n",
      "CMA: 0.0716\n",
      "CSR: 0.1000\n",
      "ADH: 0.0000\n",
      "HPS: 0.1000\n",
      "IAM: 0.2000\n",
      "LBV: 0.1000\n",
      "LHM: 0.0067\n",
      "MNG: 0.0087\n",
      "SID: 0.0000\n",
      "Expected Annual Return: 0.1499\n",
      "Expected Volatility: 0.0945\n",
      "Sharpe Ratio: 1.5859\n"
     ]
    },
    {
     "data": {
      "image/png": "[encoded data removed]",
      "text/plain": [
       "<Figure size 1000x600 with 1 Axes>"
      ]
     },
     "metadata": {},
     "output_type": "display_data"
    }
   ],
   "source": [
    "plt.figure(figsize=(10, 6))\n",
    "plt.bar(stocks_tickers, regulation_compliant_max_sharpe_optimal_weights)\n",
    "\n",
    "print_optimal_weights_results(regulation_compliant_max_sharpe_optimal_weights)\n",
    "\n",
    "plt.xlabel(\"Assets\")\n",
    "plt.ylabel(\"Optimal Weights\")\n",
    "plt.title(\"Optimal Portfolio Weights (Max Sharpe)\")\n",
    "\n",
    "plt.show()"
   ]
  }
 ],
 "metadata": {
  "kernelspec": {
   "display_name": "Python 3",
   "language": "python",
   "name": "python3"
  },
  "language_info": {
   "codemirror_mode": {
    "name": "ipython",
    "version": 3
   },
   "file_extension": ".py",
   "mimetype": "text/x-python",
   "name": "python",
   "nbconvert_exporter": "python",
   "pygments_lexer": "ipython3",
   "version": "3.12.0"
  }
 },
 "nbformat": 4,
 "nbformat_minor": 2
}
